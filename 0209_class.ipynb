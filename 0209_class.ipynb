{
 "cells": [
  {
   "cell_type": "markdown",
   "id": "06caa1ad-6718-4bab-93ef-0b2151edf93a",
   "metadata": {},
   "source": []
  },
  {
   "cell_type": "code",
   "execution_count": 1,
   "id": "54320192-f774-437c-863b-5062f67ccc42",
   "metadata": {},
   "outputs": [],
   "source": [
    "X=10"
   ]
  },
  {
   "cell_type": "code",
   "execution_count": 2,
   "id": "01be486a-937d-4e73-9793-e957014fce20",
   "metadata": {},
   "outputs": [],
   "source": [
    "X=1.34"
   ]
  },
  {
   "cell_type": "code",
   "execution_count": 3,
   "id": "7a839ab5-8e19-479c-9f45-736a15a74ea9",
   "metadata": {},
   "outputs": [],
   "source": [
    "X=\"PWSKILLS\""
   ]
  },
  {
   "cell_type": "code",
   "execution_count": 4,
   "id": "da678e9d-f064-4e56-8c84-5d4eadcc975e",
   "metadata": {},
   "outputs": [],
   "source": [
    "x=['hi',4,3,2.13]"
   ]
  },
  {
   "cell_type": "code",
   "execution_count": 5,
   "id": "f9464ab2-583e-447b-b1e1-5925151c9a61",
   "metadata": {},
   "outputs": [],
   "source": [
    "y={'name':'imran'}"
   ]
  },
  {
   "cell_type": "code",
   "execution_count": 6,
   "id": "c8a7172c-cbb9-4b96-858c-75fcb15a07ee",
   "metadata": {},
   "outputs": [],
   "source": [
    "h=(1,2,3,4)"
   ]
  },
  {
   "cell_type": "code",
   "execution_count": 7,
   "id": "c3cb0a9a-2245-483b-83e3-0488e233c996",
   "metadata": {},
   "outputs": [
    {
     "data": {
      "text/plain": [
       "dict"
      ]
     },
     "execution_count": 7,
     "metadata": {},
     "output_type": "execute_result"
    }
   ],
   "source": [
    "type(y)"
   ]
  },
  {
   "cell_type": "code",
   "execution_count": 8,
   "id": "622a45f9-7ae9-4070-9e9e-676bd7d9270b",
   "metadata": {},
   "outputs": [
    {
     "name": "stdin",
     "output_type": "stream",
     "text": [
      " kamal\n"
     ]
    }
   ],
   "source": [
    "x=input()"
   ]
  },
  {
   "cell_type": "code",
   "execution_count": 9,
   "id": "b288fe59-0e63-4263-99ae-cc7f959211c8",
   "metadata": {},
   "outputs": [
    {
     "data": {
      "text/plain": [
       "'kamal'"
      ]
     },
     "execution_count": 9,
     "metadata": {},
     "output_type": "execute_result"
    }
   ],
   "source": [
    "x\n"
   ]
  },
  {
   "cell_type": "code",
   "execution_count": 12,
   "id": "28ef6772-9e6c-420e-993c-43d9f41b13a0",
   "metadata": {},
   "outputs": [
    {
     "name": "stdin",
     "output_type": "stream",
     "text": [
      "enter your age 97\n"
     ]
    },
    {
     "name": "stdout",
     "output_type": "stream",
     "text": [
      "My age is 97\n"
     ]
    }
   ],
   "source": [
    "y=input(\"enter your age\")\n",
    "print(\"My age is \" +y)"
   ]
  },
  {
   "cell_type": "code",
   "execution_count": 13,
   "id": "12006677-7c53-4756-ad09-95ed084e86c5",
   "metadata": {},
   "outputs": [
    {
     "name": "stdout",
     "output_type": "stream",
     "text": [
      "40\n"
     ]
    }
   ],
   "source": [
    "x=10\n",
    "y=30\n",
    "print(x+y)"
   ]
  },
  {
   "cell_type": "code",
   "execution_count": 15,
   "id": "cac68193-b3f2-4ff7-a8ef-7bcf2322ca3c",
   "metadata": {},
   "outputs": [
    {
     "name": "stdin",
     "output_type": "stream",
     "text": [
      "enter the value for x 4\n",
      "enter the value for y 5\n"
     ]
    },
    {
     "name": "stdout",
     "output_type": "stream",
     "text": [
      "9\n"
     ]
    }
   ],
   "source": [
    "x=int(input(\"enter the value for x\"))\n",
    "y=int(input(\"enter the value for y\"))\n",
    "print(x+y)"
   ]
  },
  {
   "cell_type": "code",
   "execution_count": 16,
   "id": "74e63919-e84f-48c0-b7af-cbb269aaeb75",
   "metadata": {},
   "outputs": [
    {
     "name": "stdout",
     "output_type": "stream",
     "text": [
      "peskills\n"
     ]
    }
   ],
   "source": [
    "print(\"peskills\")"
   ]
  },
  {
   "cell_type": "code",
   "execution_count": 19,
   "id": "b59b677f-201f-4cb3-8b1d-70f19c3402b4",
   "metadata": {},
   "outputs": [
    {
     "name": "stdout",
     "output_type": "stream",
     "text": [
      "hi ok pwskills\n"
     ]
    }
   ],
   "source": [
    "x=\"hi\"\n",
    "y=\"pwskills\"\n",
    "\n",
    "print(f\"{x} ok {y}\")"
   ]
  },
  {
   "cell_type": "code",
   "execution_count": 20,
   "id": "297396a5-9617-4dae-9ea3-529878be419f",
   "metadata": {},
   "outputs": [
    {
     "name": "stdout",
     "output_type": "stream",
     "text": [
      "5\n"
     ]
    }
   ],
   "source": [
    "print(\"5\")"
   ]
  },
  {
   "cell_type": "code",
   "execution_count": 24,
   "id": "5621d767-ff07-48a2-bfb3-13b42a74d68b",
   "metadata": {},
   "outputs": [
    {
     "name": "stdout",
     "output_type": "stream",
     "text": [
      "pw and skills \n"
     ]
    }
   ],
   "source": [
    "print(\"{0} and {1} \".format(\"pw\",\"skills\"))"
   ]
  },
  {
   "cell_type": "code",
   "execution_count": 26,
   "id": "fa68904c-964b-4e09-9513-0fac426fd6f8",
   "metadata": {},
   "outputs": [
    {
     "name": "stdout",
     "output_type": "stream",
     "text": [
      "Hello World\n"
     ]
    }
   ],
   "source": [
    "#f format\n",
    "a=\"Hello\"\n",
    "b=\"World\"\n",
    "print(f\"{a} {b}\")"
   ]
  },
  {
   "cell_type": "code",
   "execution_count": 28,
   "id": "3b68167d-4230-46be-a7d7-4f80bd671cb4",
   "metadata": {},
   "outputs": [
    {
     "name": "stdout",
     "output_type": "stream",
     "text": [
      "Hello and World\n"
     ]
    }
   ],
   "source": [
    "# .(dot) format\n",
    "print(\"{0} and {1}\".format(\"Hello\",\"World\"))"
   ]
  },
  {
   "cell_type": "code",
   "execution_count": 30,
   "id": "b899acb4-3d7d-4bd7-9aee-cac045794136",
   "metadata": {},
   "outputs": [
    {
     "name": "stdout",
     "output_type": "stream",
     "text": [
      "89074562\n",
      "Hii!!\n",
      "$$Howareyou??\n",
      "10*10 = 100\n",
      "(12 > 10) and True\n",
      "I am here to learn \"python\n"
     ]
    }
   ],
   "source": [
    "print('''89074562\n",
    "Hii!!\n",
    "$$Howareyou??\n",
    "10*10 = 100\n",
    "(12 > 10) and True\n",
    "I am here to learn \"python''')\n"
   ]
  },
  {
   "cell_type": "code",
   "execution_count": 29,
   "id": "e6f8537e-7d2b-4a28-91d0-6f6e6f9dc80c",
   "metadata": {},
   "outputs": [
    {
     "name": "stdout",
     "output_type": "stream",
     "text": [
      "89074562\n",
      "Hii!!\n",
      "$$Howareyou??\n",
      "10*10 = 100\n",
      "(12 > 10) and True\n",
      "I am here to learn \"python\n"
     ]
    }
   ],
   "source": [
    "print(\"89074562\")\n",
    "print(\"Hii!!\")\n",
    "print(\"$$Howareyou??\")\n",
    "print(\"10*10 = 100\")\n",
    "print(\"(12 > 10) and True\")\n",
    "print('I am here to learn \"python')"
   ]
  },
  {
   "cell_type": "code",
   "execution_count": 32,
   "id": "086a89a0-c436-4e98-929c-169003f6f559",
   "metadata": {},
   "outputs": [
    {
     "name": "stdout",
     "output_type": "stream",
     "text": [
      "\n",
      "$\n",
      "$ $ \n",
      "$ $ $\n",
      "$ $ $ $\n",
      "$ $ $ $ $\n",
      "\n"
     ]
    }
   ],
   "source": [
    "print('''\n",
    "$\n",
    "$ $ \n",
    "$ $ $\n",
    "$ $ $ $\n",
    "$ $ $ $ $\n",
    "''')"
   ]
  },
  {
   "cell_type": "code",
   "execution_count": 33,
   "id": "b3bf72fe-c3ba-4884-bcb7-21ac86e31832",
   "metadata": {},
   "outputs": [
    {
     "name": "stdin",
     "output_type": "stream",
     "text": [
      "enter the string cool\n"
     ]
    },
    {
     "name": "stdout",
     "output_type": "stream",
     "text": [
      "!cool!\n"
     ]
    }
   ],
   "source": [
    "a=input(\"enter the string\")\n",
    "b=\"!\"\n",
    "print(f\"{b}{a}{b}\")"
   ]
  },
  {
   "cell_type": "code",
   "execution_count": 35,
   "id": "58fb973d-eae3-4f7b-b695-e442cae45e38",
   "metadata": {},
   "outputs": [
    {
     "name": "stdin",
     "output_type": "stream",
     "text": [
      "enter the string 123567\n"
     ]
    },
    {
     "name": "stdout",
     "output_type": "stream",
     "text": [
      "!123567!\n"
     ]
    }
   ],
   "source": [
    "a=input(\"enter the string\")\n",
    "b=\"!\"\n",
    "print(f\"{b}{a}{b}\")"
   ]
  },
  {
   "cell_type": "code",
   "execution_count": 36,
   "id": "f7e50373-a556-4aa0-98b7-395203c229db",
   "metadata": {},
   "outputs": [
    {
     "name": "stdout",
     "output_type": "stream",
     "text": [
      "30\n",
      "200\n",
      "10\n",
      "2.0\n",
      "0\n"
     ]
    }
   ],
   "source": [
    "a=10\n",
    "b=20\n",
    "print(a+b)\n",
    "print(a*b)\n",
    "print(b-a)\n",
    "print(b/a)\n",
    "print(b%a)"
   ]
  },
  {
   "cell_type": "code",
   "execution_count": 44,
   "id": "ec9ca13a-1e91-4e50-a4f0-5176f33ccca8",
   "metadata": {},
   "outputs": [
    {
     "data": {
      "text/plain": [
       "True"
      ]
     },
     "execution_count": 44,
     "metadata": {},
     "output_type": "execute_result"
    }
   ],
   "source": [
    "a=10\n",
    "b=10\n",
    "a==b"
   ]
  },
  {
   "cell_type": "code",
   "execution_count": 38,
   "id": "0b9e1ade-916b-4c8f-b21d-1d00adc0aa0e",
   "metadata": {},
   "outputs": [
    {
     "data": {
      "text/plain": [
       "True"
      ]
     },
     "execution_count": 38,
     "metadata": {},
     "output_type": "execute_result"
    }
   ],
   "source": [
    "a is b #identity operator"
   ]
  },
  {
   "cell_type": "code",
   "execution_count": 47,
   "id": "8b9bf047-5743-49de-b52f-0cfaf8cba93f",
   "metadata": {},
   "outputs": [
    {
     "data": {
      "text/plain": [
       "False"
      ]
     },
     "execution_count": 47,
     "metadata": {},
     "output_type": "execute_result"
    }
   ],
   "source": [
    "a=20\n",
    "b-30\n",
    "a is b"
   ]
  },
  {
   "cell_type": "code",
   "execution_count": 40,
   "id": "4f0f9994-2ea8-4db1-a659-cecd434e46e9",
   "metadata": {},
   "outputs": [
    {
     "data": {
      "text/plain": [
       "False"
      ]
     },
     "execution_count": 40,
     "metadata": {},
     "output_type": "execute_result"
    }
   ],
   "source": [
    "a==b"
   ]
  },
  {
   "cell_type": "code",
   "execution_count": null,
   "id": "a771293e-cc5b-431f-b787-254778803c69",
   "metadata": {},
   "outputs": [],
   "source": [
    "# == compare theequality of  object\n",
    "# is operator checks is this pointing the same memory objects"
   ]
  },
  {
   "cell_type": "code",
   "execution_count": 51,
   "id": "da0de1f7-2148-4e4f-b247-c80a0fc7ef48",
   "metadata": {},
   "outputs": [
    {
     "data": {
      "text/plain": [
       "140420132471632"
      ]
     },
     "execution_count": 51,
     "metadata": {},
     "output_type": "execute_result"
    }
   ],
   "source": [
    "id(a)"
   ]
  },
  {
   "cell_type": "code",
   "execution_count": 52,
   "id": "f8842569-c11b-43b6-a4a9-a32aaa2ffcd7",
   "metadata": {},
   "outputs": [
    {
     "data": {
      "text/plain": [
       "140420132471312"
      ]
     },
     "execution_count": 52,
     "metadata": {},
     "output_type": "execute_result"
    }
   ],
   "source": [
    "id(b)"
   ]
  },
  {
   "cell_type": "code",
   "execution_count": 48,
   "id": "360c7b5c-3bac-49da-aa7a-7058f9ac1751",
   "metadata": {},
   "outputs": [
    {
     "data": {
      "text/plain": [
       "True"
      ]
     },
     "execution_count": 48,
     "metadata": {},
     "output_type": "execute_result"
    }
   ],
   "source": [
    "a!=b"
   ]
  },
  {
   "cell_type": "code",
   "execution_count": 53,
   "id": "33507643-6f7d-49a5-a78e-cf334a307645",
   "metadata": {},
   "outputs": [
    {
     "name": "stdout",
     "output_type": "stream",
     "text": [
      "True\n",
      "False\n"
     ]
    }
   ],
   "source": [
    "a = [1, 2, 3]\n",
    "b = [1, 2, 3]\n",
    "print(a == b)\n",
    "print(a is b)"
   ]
  },
  {
   "cell_type": "code",
   "execution_count": 54,
   "id": "505f78e5-b137-432e-be42-4900b24ec737",
   "metadata": {},
   "outputs": [
    {
     "name": "stdout",
     "output_type": "stream",
     "text": [
      "True\n",
      "True\n"
     ]
    }
   ],
   "source": [
    "a=[1, 2, 3]\n",
    "b=a\n",
    "print(a == b)\n",
    "print(a is b)"
   ]
  },
  {
   "cell_type": "markdown",
   "id": "c186856f-7767-44e5-b48d-9b002fc635c2",
   "metadata": {},
   "source": [
    "# Logical Operators #"
   ]
  },
  {
   "cell_type": "code",
   "execution_count": 57,
   "id": "40738f20-828d-4068-8861-44c607291e2b",
   "metadata": {},
   "outputs": [],
   "source": [
    "#Accept a string as input. Print the string obtained by removing the first and last letters."
   ]
  },
  {
   "cell_type": "code",
   "execution_count": 65,
   "id": "293ccf80-122c-417f-8e05-c8a75203a32c",
   "metadata": {},
   "outputs": [
    {
     "name": "stdin",
     "output_type": "stream",
     "text": [
      "enter the value 10\n"
     ]
    },
    {
     "name": "stdout",
     "output_type": "stream",
     "text": [
      "5003154509899971.0\n",
      "5003154509899970\n"
     ]
    }
   ],
   "source": [
    "x =int(input(\"Enter the integer value\"))\n",
    "y=3**35\n",
    "print(y/x)\n",
    "print(y//x) #floor division"
   ]
  },
  {
   "cell_type": "code",
   "execution_count": 64,
   "id": "f5d668bf-fb4e-4487-b7a4-43573edd757e",
   "metadata": {},
   "outputs": [
    {
     "name": "stdout",
     "output_type": "stream",
     "text": [
      "100\n"
     ]
    }
   ],
   "source": [
    "#sqrt\n",
    "a=10\n",
    "res=a**2\n",
    "print(res)"
   ]
  },
  {
   "cell_type": "code",
   "execution_count": 68,
   "id": "370433c2-a2be-430d-8ff1-05cab6b211bd",
   "metadata": {},
   "outputs": [
    {
     "name": "stdout",
     "output_type": "stream",
     "text": [
      "True\n",
      "False\n",
      "0\n"
     ]
    }
   ],
   "source": [
    "# greater than / less than\n",
    "a = 10\n",
    "b = 20\n",
    "print(a < b)\n",
    "print(a > b)\n",
    "print(b % a)"
   ]
  },
  {
   "cell_type": "code",
   "execution_count": 71,
   "id": "29e29766-b12b-44d3-95ab-a2e3f37d3954",
   "metadata": {},
   "outputs": [
    {
     "name": "stdout",
     "output_type": "stream",
     "text": [
      "0b1010\n",
      "0b100\n"
     ]
    }
   ],
   "source": [
    "a=10\n",
    "b=4\n",
    "print(bin(a))\n",
    "print(bin(b))"
   ]
  },
  {
   "cell_type": "code",
   "execution_count": 78,
   "id": "7a30f5e8-6745-4e2a-8511-f7a8ef0b8d45",
   "metadata": {},
   "outputs": [
    {
     "name": "stdout",
     "output_type": "stream",
     "text": [
      "0\n",
      "14\n",
      "4\n",
      "10\n",
      "-5\n",
      "14\n",
      "5\n",
      "5\n"
     ]
    }
   ],
   "source": [
    "# bitwise operator\n",
    "a=10\n",
    "b-4\n",
    "print(a & b)      # and operator\n",
    "print(a | b)      # or operator\n",
    "print(a and b)\n",
    "print(a or b)\n",
    "print(~ b)        # not operator\n",
    "print(a ^ b)      # xor operator\n",
    "print(a >> 1)     #left shift\n",
    "print(a >> 1)     #right shift"
   ]
  },
  {
   "cell_type": "code",
   "execution_count": 85,
   "id": "94b21d7b-5655-4af8-b0e1-c9aa67b6d300",
   "metadata": {},
   "outputs": [
    {
     "name": "stdout",
     "output_type": "stream",
     "text": [
      "11\n"
     ]
    }
   ],
   "source": [
    "a=10\n",
    "a=a+1\n",
    "print(a)"
   ]
  },
  {
   "cell_type": "code",
   "execution_count": 86,
   "id": "2f291897-07aa-4231-b46d-976a66e0606f",
   "metadata": {},
   "outputs": [
    {
     "name": "stdout",
     "output_type": "stream",
     "text": [
      "11\n"
     ]
    }
   ],
   "source": [
    "a=10\n",
    "a+=1\n",
    "print(a)\n"
   ]
  },
  {
   "cell_type": "code",
   "execution_count": 1,
   "id": "8cea6988-1c9e-46ea-8f60-443e77cd6d65",
   "metadata": {},
   "outputs": [],
   "source": [
    "#logical operator\n",
    "# and\n",
    "# or\n",
    "# not"
   ]
  },
  {
   "cell_type": "code",
   "execution_count": 4,
   "id": "d50c1aa2-58e9-4e17-9575-e30c2bbc5698",
   "metadata": {},
   "outputs": [],
   "source": [
    "a=10\n",
    "b=20"
   ]
  },
  {
   "cell_type": "code",
   "execution_count": 5,
   "id": "ba419854-cff3-4e0a-bdc6-277129f99c4c",
   "metadata": {},
   "outputs": [
    {
     "data": {
      "text/plain": [
       "True"
      ]
     },
     "execution_count": 5,
     "metadata": {},
     "output_type": "execute_result"
    }
   ],
   "source": [
    "(a >6) and ( b>7)"
   ]
  },
  {
   "cell_type": "code",
   "execution_count": 6,
   "id": "a1281c67-e10f-4f53-a658-772272f630d6",
   "metadata": {},
   "outputs": [
    {
     "data": {
      "text/plain": [
       "True"
      ]
     },
     "execution_count": 6,
     "metadata": {},
     "output_type": "execute_result"
    }
   ],
   "source": [
    "(a >6) or ( b>7)"
   ]
  },
  {
   "cell_type": "code",
   "execution_count": 7,
   "id": "99ff2599-facf-44ad-ae06-df452f0fe39a",
   "metadata": {},
   "outputs": [
    {
     "name": "stdout",
     "output_type": "stream",
     "text": [
      "False\n"
     ]
    }
   ],
   "source": [
    "print( True and False)"
   ]
  },
  {
   "cell_type": "code",
   "execution_count": 9,
   "id": "90df703b-37a5-472b-a37e-dc17915f2d57",
   "metadata": {},
   "outputs": [
    {
     "name": "stdout",
     "output_type": "stream",
     "text": [
      "True\n"
     ]
    }
   ],
   "source": [
    "print(False or True)"
   ]
  },
  {
   "cell_type": "code",
   "execution_count": 12,
   "id": "e5bfb36e-7150-4e6c-b38a-bbb9aec7865a",
   "metadata": {},
   "outputs": [],
   "source": [
    "a= False"
   ]
  },
  {
   "cell_type": "code",
   "execution_count": 13,
   "id": "67ed2758-0f11-4ff6-9835-0e75b80825d7",
   "metadata": {},
   "outputs": [
    {
     "data": {
      "text/plain": [
       "True"
      ]
     },
     "execution_count": 13,
     "metadata": {},
     "output_type": "execute_result"
    }
   ],
   "source": [
    "not(a)"
   ]
  },
  {
   "cell_type": "code",
   "execution_count": null,
   "id": "9f549a4c-0d57-4510-841c-53a73eec2ef2",
   "metadata": {},
   "outputs": [],
   "source": [
    "& --- and\n",
    "! --- or\n",
    "^ --- xor\n",
    "~ --- negotion\n",
    "<< --- left shift\n",
    ">> --- right shift\n",
    "#bitwise operator"
   ]
  },
  {
   "cell_type": "code",
   "execution_count": 18,
   "id": "1cf2d1f3-fecb-4e8b-af78-3a09e8411ae1",
   "metadata": {},
   "outputs": [
    {
     "data": {
      "text/plain": [
       "'0b1010'"
      ]
     },
     "execution_count": 18,
     "metadata": {},
     "output_type": "execute_result"
    }
   ],
   "source": [
    "a=10\n",
    "b=4\n",
    "bin(a)\n",
    "#1010"
   ]
  },
  {
   "cell_type": "code",
   "execution_count": 19,
   "id": "6933e818-e2c9-4f00-be09-b9404be690ce",
   "metadata": {},
   "outputs": [
    {
     "data": {
      "text/plain": [
       "'0b100'"
      ]
     },
     "execution_count": 19,
     "metadata": {},
     "output_type": "execute_result"
    }
   ],
   "source": [
    "bin(b)"
   ]
  },
  {
   "cell_type": "code",
   "execution_count": 22,
   "id": "424c7d84-146d-44f0-93e1-22378d075e7d",
   "metadata": {},
   "outputs": [],
   "source": [
    "# 2 pow 3, 2 pow 2, 2 pow 1, 2 pow 0, \n",
    "# that is\n",
    "# 8421\n",
    "# 0100 --> 4\n",
    "# 1010 --> 2"
   ]
  },
  {
   "cell_type": "code",
   "execution_count": 23,
   "id": "7fa714ac-4719-4913-b166-34a632e1c8c3",
   "metadata": {},
   "outputs": [
    {
     "data": {
      "text/plain": [
       "0"
      ]
     },
     "execution_count": 23,
     "metadata": {},
     "output_type": "execute_result"
    }
   ],
   "source": [
    "a & b"
   ]
  },
  {
   "cell_type": "code",
   "execution_count": 26,
   "id": "d99cb354-8b2b-4853-9919-3813fb3336dd",
   "metadata": {},
   "outputs": [
    {
     "data": {
      "text/plain": [
       "14"
      ]
     },
     "execution_count": 26,
     "metadata": {},
     "output_type": "execute_result"
    }
   ],
   "source": [
    "a | b"
   ]
  },
  {
   "cell_type": "code",
   "execution_count": 27,
   "id": "f346452f-3bbd-480b-bca2-85f46e7b7964",
   "metadata": {},
   "outputs": [
    {
     "data": {
      "text/plain": [
       "14"
      ]
     },
     "execution_count": 27,
     "metadata": {},
     "output_type": "execute_result"
    }
   ],
   "source": [
    "a ^ b"
   ]
  },
  {
   "cell_type": "code",
   "execution_count": null,
   "id": "b1a52433-6226-46f3-b908-01049abd50c3",
   "metadata": {},
   "outputs": [],
   "source": [
    "1'S COMPLIMENT change o to 1\n",
    "2's Compliment change 0 to 1 (1's compliment) and then add 1"
   ]
  },
  {
   "cell_type": "code",
   "execution_count": 28,
   "id": "4ce30a3a-a0d6-4a23-8cbf-d38f91096210",
   "metadata": {},
   "outputs": [
    {
     "data": {
      "text/plain": [
       "-11"
      ]
     },
     "execution_count": 28,
     "metadata": {},
     "output_type": "execute_result"
    }
   ],
   "source": [
    "a=10\n",
    "~a"
   ]
  },
  {
   "cell_type": "code",
   "execution_count": 29,
   "id": "fc5fc1ba-0c8e-41cd-8ac3-c482a9cf7d50",
   "metadata": {},
   "outputs": [
    {
     "data": {
      "text/plain": [
       "-9"
      ]
     },
     "execution_count": 29,
     "metadata": {},
     "output_type": "execute_result"
    }
   ],
   "source": [
    "a=8\n",
    "~a"
   ]
  },
  {
   "cell_type": "code",
   "execution_count": 32,
   "id": "f17da30d-7000-4714-80d9-0fd3ecf80b58",
   "metadata": {},
   "outputs": [
    {
     "data": {
      "text/plain": [
       "-15"
      ]
     },
     "execution_count": 32,
     "metadata": {},
     "output_type": "execute_result"
    }
   ],
   "source": [
    "a=14\n",
    "~a"
   ]
  },
  {
   "cell_type": "code",
   "execution_count": 34,
   "id": "7f69d5b5-6191-485a-a024-5ad571802ffe",
   "metadata": {},
   "outputs": [
    {
     "data": {
      "text/plain": [
       "True"
      ]
     },
     "execution_count": 34,
     "metadata": {},
     "output_type": "execute_result"
    }
   ],
   "source": [
    "a=[1, 2, 3, 4]\n",
    "2 in a"
   ]
  },
  {
   "cell_type": "code",
   "execution_count": 35,
   "id": "ddf835e1-307c-43c9-9308-2ca65467dbb1",
   "metadata": {},
   "outputs": [
    {
     "data": {
      "text/plain": [
       "False"
      ]
     },
     "execution_count": 35,
     "metadata": {},
     "output_type": "execute_result"
    }
   ],
   "source": [
    "7 in a"
   ]
  },
  {
   "cell_type": "code",
   "execution_count": 37,
   "id": "b1f26486-f5c4-43b6-8e1e-a1b05a18588b",
   "metadata": {},
   "outputs": [
    {
     "data": {
      "text/plain": [
       "20"
      ]
     },
     "execution_count": 37,
     "metadata": {},
     "output_type": "execute_result"
    }
   ],
   "source": [
    "a=10\n",
    "a << 1"
   ]
  },
  {
   "cell_type": "code",
   "execution_count": 38,
   "id": "5be5cd1e-47df-4de3-8cb7-8518546b221c",
   "metadata": {},
   "outputs": [
    {
     "data": {
      "text/plain": [
       "2"
      ]
     },
     "execution_count": 38,
     "metadata": {},
     "output_type": "execute_result"
    }
   ],
   "source": [
    "a >> 2"
   ]
  },
  {
   "cell_type": "code",
   "execution_count": 39,
   "id": "a9528e08-7fdd-433c-b912-a3446a630f59",
   "metadata": {},
   "outputs": [
    {
     "data": {
      "text/plain": [
       "80"
      ]
     },
     "execution_count": 39,
     "metadata": {},
     "output_type": "execute_result"
    }
   ],
   "source": [
    "a << 3"
   ]
  },
  {
   "cell_type": "markdown",
   "id": "8b8730d7-0ccb-4e77-8ee0-48caabb94ae1",
   "metadata": {},
   "source": [
    "# left shift  to 1 is actually multiplier of 2\n",
    "# right shift to 1 is divide by 2"
   ]
  },
  {
   "cell_type": "code",
   "execution_count": 40,
   "id": "345a399a-92d1-4f70-923c-e9246db9aa81",
   "metadata": {},
   "outputs": [
    {
     "data": {
      "text/plain": [
       "5"
      ]
     },
     "execution_count": 40,
     "metadata": {},
     "output_type": "execute_result"
    }
   ],
   "source": [
    "a=10\n",
    "a >> 1"
   ]
  },
  {
   "cell_type": "markdown",
   "id": "68f7caf5-625e-4efe-9d88-c4cb9f4dcc5c",
   "metadata": {},
   "source": [
    "## control flows ##"
   ]
  },
  {
   "cell_type": "code",
   "execution_count": null,
   "id": "54c39b73-5a47-4018-9fc6-6f5a168d7b26",
   "metadata": {},
   "outputs": [],
   "source": [
    "# if\n",
    "# if...else\n",
    "# if... elif...else\n",
    "# for #\n",
    "# while #"
   ]
  },
  {
   "cell_type": "code",
   "execution_count": 46,
   "id": "7edb2b7a-6682-4994-af23-269947b62c6c",
   "metadata": {},
   "outputs": [
    {
     "name": "stdout",
     "output_type": "stream",
     "text": [
      "YOU CANNOT DRIVE\n"
     ]
    }
   ],
   "source": [
    "age = 17\n",
    "if age >= 18:\n",
    "    print('YOU CAN DRIVE')    "
   ]
  },
  {
   "cell_type": "code",
   "execution_count": 45,
   "id": "44f9596a-c207-469e-9c55-f99804856134",
   "metadata": {},
   "outputs": [],
   "source": [
    "age = 17\n",
    "if age >= 18:\n",
    "    print('YOU CAN DRIVE')\n",
    "else:\n",
    "    print('YOU CANNOT DRIVE')\n",
    "    "
   ]
  },
  {
   "cell_type": "code",
   "execution_count": 47,
   "id": "f774f8c8-0c85-47e1-a0c9-8b3ea8c607cb",
   "metadata": {},
   "outputs": [
    {
     "name": "stdout",
     "output_type": "stream",
     "text": [
      "excellent performance your grade is B\n"
     ]
    }
   ],
   "source": [
    "score =76\n",
    "if score >= 90:\n",
    "    print(\"excellent performance your grade is A+\")\n",
    "elif score >= 80:\n",
    "     print(\"excellent performance your grade is A\")\n",
    "elif score >= 70:\n",
    "     print(\"excellent performance your grade is B\")\n",
    "else:\n",
    "     print(\"excellent performance your grade is C\")\n",
    "    "
   ]
  },
  {
   "cell_type": "code",
   "execution_count": 54,
   "id": "b7f066e5-1df3-42ce-b342-bb428891dd90",
   "metadata": {},
   "outputs": [
    {
     "name": "stdin",
     "output_type": "stream",
     "text": [
      "Please enter the time 22\n"
     ]
    },
    {
     "name": "stdout",
     "output_type": "stream",
     "text": [
      "Evening\n"
     ]
    }
   ],
   "source": [
    "t = int(input (\"Please enter the time\"))\n",
    "\n",
    "if t < 0:\n",
    "    print(\"Invalid\")\n",
    "elif 0 <= t <=5:\n",
    "    print(\"Night\")\n",
    "elif 6<= t <=11:\n",
    "    print(\"Morning\")\n",
    "elif 12<= t <=17:\n",
    "    print(\"Afternoon\")\n",
    "elif 18<= t <=23:\n",
    "    print(\"Evening\")\n",
    "else:\n",
    "    print(\"Invalid\")"
   ]
  },
  {
   "cell_type": "code",
   "execution_count": 55,
   "id": "f38c94a3-9ace-4d67-9090-9a761e88ab96",
   "metadata": {},
   "outputs": [],
   "source": [
    " # find the largest number from 3 three numbers"
   ]
  },
  {
   "cell_type": "code",
   "execution_count": 56,
   "id": "559d294b-e4ee-4ac9-88cc-4dc13831d03e",
   "metadata": {},
   "outputs": [
    {
     "name": "stdout",
     "output_type": "stream",
     "text": [
      "largest number is 30\n"
     ]
    }
   ],
   "source": [
    "num1 = 10\n",
    "num2 = 20\n",
    "num3 = 30\n",
    "\n",
    "if (num1 >= num2) and (num1 >= num3):\n",
    "    laregest = num1\n",
    "    print(\"largest number is\", largest)\n",
    "elif (num2 >= num1) and (num2 >= num3):\n",
    "    largest = num2\n",
    "    print(\"largest number is\",largest)\n",
    "else:\n",
    "    largest = num3\n",
    "    print(\"largest number is\", largest)\n"
   ]
  },
  {
   "cell_type": "code",
   "execution_count": null,
   "id": "27edaa89-aeef-4ec8-bbff-dd43c52bc9ee",
   "metadata": {},
   "outputs": [],
   "source": [
    "# simple calculator \n",
    "# +, *, _, /"
   ]
  },
  {
   "cell_type": "code",
   "execution_count": 60,
   "id": "267e1b19-7130-4b15-8e63-ad6f3058d3bc",
   "metadata": {},
   "outputs": [
    {
     "name": "stdin",
     "output_type": "stream",
     "text": [
      "enter your choice \n"
     ]
    },
    {
     "name": "stdout",
     "output_type": "stream",
     "text": [
      "invalid\n"
     ]
    }
   ],
   "source": [
    "a=10\n",
    "b=20\n",
    "c =input(\"enter your choice\")\n",
    "if c.lower()=='add':\n",
    "    print(a+b)\n",
    "elif c.lower()=='mul':\n",
    "    print(a*b)\n",
    "elif c.lower()=='sub':\n",
    "    print(a-b)\n",
    "elif c.lower() =='div':\n",
    "    print(a/b)\n",
    "else:\n",
    "    print(\"invalid\")\n"
   ]
  },
  {
   "cell_type": "code",
   "execution_count": 62,
   "id": "ec609a36-d9c2-4400-81f6-fce85cb27c31",
   "metadata": {},
   "outputs": [
    {
     "name": "stdin",
     "output_type": "stream",
     "text": [
      "enter first number : 2\n",
      "enter operator (+,-,*,/,%) :  *\n",
      "enter second number : 3\n"
     ]
    },
    {
     "name": "stdout",
     "output_type": "stream",
     "text": [
      "6\n"
     ]
    }
   ],
   "source": [
    "first = input(\"enter first number :\")\n",
    "operator = input(\"enter operator (+,-,*,/,%) : \")\n",
    "second = input(\"enter second number :\")\n",
    "\n",
    "first = int(first)\n",
    "second =  int(second)\n",
    "\n",
    "if operator ==  \"+\":\n",
    "    print(first+second)\n",
    "elif operator == \"-\":\n",
    "    print(first-second)\n",
    "elif operator == \"*\":\n",
    "    print(first*second)\n",
    "elif operator == \"/\":\n",
    "    print(first/second)\n",
    "elif operator == \"%\":\n",
    "    print(first%second)\n",
    "\n",
    "else:\n",
    "    print(\"invalid operation\")"
   ]
  },
  {
   "cell_type": "code",
   "execution_count": 72,
   "id": "5e15ad7e-c732-4c8e-960d-1850cf26c840",
   "metadata": {},
   "outputs": [
    {
     "name": "stdout",
     "output_type": "stream",
     "text": [
      "number is positive\n"
     ]
    }
   ],
   "source": [
    "num=5\n",
    "\n",
    "if (num >= 0):\n",
    "    if num == 0:\n",
    "        print(\"number is 0\")\n",
    "    else:\n",
    "        print(\"number is positive\")\n",
    "else:\n",
    "    print(\"number is negative\")"
   ]
  },
  {
   "cell_type": "code",
   "execution_count": 73,
   "id": "f22f1dab-edf7-4000-9183-472214716648",
   "metadata": {},
   "outputs": [
    {
     "data": {
      "text/plain": [
       "range(0, 5)"
      ]
     },
     "execution_count": 73,
     "metadata": {},
     "output_type": "execute_result"
    }
   ],
   "source": [
    "range(5)"
   ]
  },
  {
   "cell_type": "code",
   "execution_count": 74,
   "id": "62582ab5-7441-4225-b77a-280c475b5d1b",
   "metadata": {},
   "outputs": [],
   "source": [
    "# range(start, stop, index)"
   ]
  },
  {
   "cell_type": "code",
   "execution_count": 75,
   "id": "127c192b-7add-4c84-a695-748f9c516ed4",
   "metadata": {},
   "outputs": [
    {
     "data": {
      "text/plain": [
       "[0, 1, 2, 3, 4]"
      ]
     },
     "execution_count": 75,
     "metadata": {},
     "output_type": "execute_result"
    }
   ],
   "source": [
    "list(range(5))"
   ]
  },
  {
   "cell_type": "code",
   "execution_count": 76,
   "id": "a61af562-978e-4960-aad3-3e76c642a689",
   "metadata": {},
   "outputs": [
    {
     "data": {
      "text/plain": [
       "[2, 3, 4, 5, 6, 7, 8, 9]"
      ]
     },
     "execution_count": 76,
     "metadata": {},
     "output_type": "execute_result"
    }
   ],
   "source": [
    "list(range(2,10))"
   ]
  },
  {
   "cell_type": "code",
   "execution_count": 77,
   "id": "ed8d30cf-25d6-4071-a280-061deeea6059",
   "metadata": {},
   "outputs": [
    {
     "data": {
      "text/plain": [
       "[2, 4, 6, 8, 10]"
      ]
     },
     "execution_count": 77,
     "metadata": {},
     "output_type": "execute_result"
    }
   ],
   "source": [
    "list(range(2,12,2))"
   ]
  },
  {
   "cell_type": "code",
   "execution_count": 79,
   "id": "a76b3f90-9617-4c9c-bd67-4a2080baa91e",
   "metadata": {},
   "outputs": [
    {
     "name": "stdout",
     "output_type": "stream",
     "text": [
      "0\n",
      "1\n",
      "2\n",
      "3\n",
      "4\n"
     ]
    }
   ],
   "source": [
    "for i in range(5):\n",
    "    print(i)"
   ]
  },
  {
   "cell_type": "code",
   "execution_count": 80,
   "id": "dcf0fb3e-5c00-4a2a-926b-01f1491756dc",
   "metadata": {},
   "outputs": [
    {
     "name": "stdout",
     "output_type": "stream",
     "text": [
      "0\n",
      "1\n",
      "2\n"
     ]
    }
   ],
   "source": [
    "for i in range(3):\n",
    "    print(i)"
   ]
  },
  {
   "cell_type": "code",
   "execution_count": 84,
   "id": "6a6e37d1-b790-4af9-88ae-ee05f25d853b",
   "metadata": {},
   "outputs": [
    {
     "name": "stdout",
     "output_type": "stream",
     "text": [
      "a\n",
      "b\n",
      "c\n"
     ]
    }
   ],
   "source": [
    "for l in [\"a\", \"b\", \"c\"]:\n",
    "    print (l)\n"
   ]
  },
  {
   "cell_type": "code",
   "execution_count": 86,
   "id": "f3cc1072-19f6-47d0-bcd5-19199ef63b8c",
   "metadata": {},
   "outputs": [
    {
     "name": "stdout",
     "output_type": "stream",
     "text": [
      "p\n",
      "w\n",
      "s\n",
      "k\n",
      "i\n",
      "l\n",
      "l\n",
      "s\n"
     ]
    }
   ],
   "source": [
    "for i in \"pwskills\":\n",
    "    print(i)"
   ]
  },
  {
   "cell_type": "code",
   "execution_count": 87,
   "id": "4fb0f546-cff2-4917-88dd-b48326d80585",
   "metadata": {},
   "outputs": [
    {
     "ename": "TypeError",
     "evalue": "'int' object is not iterable",
     "output_type": "error",
     "traceback": [
      "\u001b[0;31m---------------------------------------------------------------------------\u001b[0m",
      "\u001b[0;31mTypeError\u001b[0m                                 Traceback (most recent call last)",
      "Cell \u001b[0;32mIn[87], line 1\u001b[0m\n\u001b[0;32m----> 1\u001b[0m \u001b[38;5;28;01mfor\u001b[39;00m i \u001b[38;5;129;01min\u001b[39;00m \u001b[38;5;241m23\u001b[39m:\n\u001b[1;32m      2\u001b[0m     \u001b[38;5;28mprint\u001b[39m(i)\n",
      "\u001b[0;31mTypeError\u001b[0m: 'int' object is not iterable"
     ]
    }
   ],
   "source": [
    "for i in 23:\n",
    "    print(i)"
   ]
  },
  {
   "cell_type": "code",
   "execution_count": 91,
   "id": "5da09bce-06cf-4273-8e75-6c5b27a82fd5",
   "metadata": {},
   "outputs": [
    {
     "data": {
      "text/plain": [
       "[2, 3, 4]"
      ]
     },
     "execution_count": 91,
     "metadata": {},
     "output_type": "execute_result"
    }
   ],
   "source": [
    "list(range(2,5))"
   ]
  },
  {
   "cell_type": "code",
   "execution_count": 88,
   "id": "40ec54fb-b028-48d7-9ce0-d8054d8a40e2",
   "metadata": {},
   "outputs": [],
   "source": [
    "x ={\"name\":\"pwskills\",\"age\":23}"
   ]
  },
  {
   "cell_type": "code",
   "execution_count": 90,
   "id": "a7661f2b-c361-49d3-b98c-d74d87e0bc08",
   "metadata": {},
   "outputs": [
    {
     "name": "stdout",
     "output_type": "stream",
     "text": [
      "pwskills\n",
      "23\n"
     ]
    }
   ],
   "source": [
    "for i in x.values():\n",
    "    print(i)"
   ]
  },
  {
   "cell_type": "code",
   "execution_count": 93,
   "id": "4904c97a-94d2-4ed4-a8b3-868e854c076e",
   "metadata": {},
   "outputs": [
    {
     "name": "stdout",
     "output_type": "stream",
     "text": [
      "2\n",
      "5\n",
      "8\n"
     ]
    }
   ],
   "source": [
    "for i in range(2,9,3):\n",
    "    print(i)"
   ]
  },
  {
   "cell_type": "code",
   "execution_count": 94,
   "id": "b9cf8d30-36c0-4111-94b5-9699a4c08fc7",
   "metadata": {},
   "outputs": [
    {
     "name": "stdout",
     "output_type": "stream",
     "text": [
      "india\n",
      "uk\n",
      "japan\n",
      "us\n",
      "sl\n",
      "germany\n"
     ]
    }
   ],
   "source": [
    "country=[\"india\",\"uk\",\"japan\",\"us\",\"sl\",\"germany\"]\n",
    "for ct in country:\n",
    "    print(ct)"
   ]
  },
  {
   "cell_type": "code",
   "execution_count": 97,
   "id": "59d1b2cf-4d47-40a7-a8cb-5fc34185d9e6",
   "metadata": {},
   "outputs": [
    {
     "name": "stdout",
     "output_type": "stream",
     "text": [
      "india\n",
      "uk\n",
      "japan\n",
      "us\n",
      "sl\n",
      "germany\n"
     ]
    }
   ],
   "source": [
    "country=[\"india\",\"uk\",\"japan\",\"us\",\"sl\",\"germany\"]\n",
    "for index in range(len(country)):\n",
    "    print(country[index])"
   ]
  },
  {
   "cell_type": "code",
   "execution_count": 102,
   "id": "69c52cc2-fec9-4e1c-ac67-cd6816f3dca3",
   "metadata": {},
   "outputs": [
    {
     "name": "stdout",
     "output_type": "stream",
     "text": [
      "0\n",
      "1\n",
      "2\n",
      "3\n",
      "4\n",
      "5\n"
     ]
    }
   ],
   "source": [
    "country=[\"india\",\"uk\",\"japan\",\"us\",\"sl\",\"germany\"]\n",
    "for index in range(len(country)):\n",
    "    print(index)"
   ]
  },
  {
   "cell_type": "code",
   "execution_count": 103,
   "id": "850425c7-6401-4cd1-ab5b-fe500300a7a8",
   "metadata": {},
   "outputs": [],
   "source": [
    "dict1={\"x1\":1,\"x2\":2,\"x3\":3}"
   ]
  },
  {
   "cell_type": "code",
   "execution_count": 104,
   "id": "86e910af-a02b-4b0e-b736-774d2cfc52ff",
   "metadata": {},
   "outputs": [
    {
     "data": {
      "text/plain": [
       "dict_keys(['x1', 'x2', 'x3'])"
      ]
     },
     "execution_count": 104,
     "metadata": {},
     "output_type": "execute_result"
    }
   ],
   "source": [
    "dict1.keys()"
   ]
  },
  {
   "cell_type": "code",
   "execution_count": 105,
   "id": "d454f945-5a61-4015-9b52-1c087748b27e",
   "metadata": {},
   "outputs": [
    {
     "data": {
      "text/plain": [
       "dict_values([1, 2, 3])"
      ]
     },
     "execution_count": 105,
     "metadata": {},
     "output_type": "execute_result"
    }
   ],
   "source": [
    "dict1.values()"
   ]
  },
  {
   "cell_type": "code",
   "execution_count": 109,
   "id": "5deee841-c022-4561-b63b-e43ca537e095",
   "metadata": {},
   "outputs": [
    {
     "data": {
      "text/plain": [
       "1"
      ]
     },
     "execution_count": 109,
     "metadata": {},
     "output_type": "execute_result"
    }
   ],
   "source": [
    "dict1[\"x1\"]"
   ]
  },
  {
   "cell_type": "code",
   "execution_count": 107,
   "id": "6af4ba4c-7f2f-4be0-856d-83ff43aad1b8",
   "metadata": {},
   "outputs": [
    {
     "name": "stdout",
     "output_type": "stream",
     "text": [
      "x1 1\n",
      "x2 2\n",
      "x3 3\n"
     ]
    }
   ],
   "source": [
    "for key in dict1:\n",
    "    print(key,dict1[key])"
   ]
  },
  {
   "cell_type": "code",
   "execution_count": 111,
   "id": "3d6f2e50-ae63-4509-810f-e3dfd9eab403",
   "metadata": {},
   "outputs": [
    {
     "name": "stdout",
     "output_type": "stream",
     "text": [
      "x1\n",
      "x2\n",
      "x3\n"
     ]
    }
   ],
   "source": [
    "for i in dict1:\n",
    "    print(i)"
   ]
  },
  {
   "cell_type": "code",
   "execution_count": 114,
   "id": "8267cc7a-4fe2-408c-8af0-b85c1409f35a",
   "metadata": {},
   "outputs": [
    {
     "name": "stdout",
     "output_type": "stream",
     "text": [
      "1\n",
      "2\n",
      "3\n"
     ]
    }
   ],
   "source": [
    "for i in dict1.values():\n",
    "    print(i)"
   ]
  },
  {
   "cell_type": "code",
   "execution_count": 115,
   "id": "81489522-505b-4d2d-9fc7-5db12068fa20",
   "metadata": {},
   "outputs": [
    {
     "name": "stdout",
     "output_type": "stream",
     "text": [
      "1\n",
      "2\n",
      "3\n"
     ]
    }
   ],
   "source": [
    "for i in {1,2,3}:\n",
    "    print(i)\n"
   ]
  },
  {
   "cell_type": "code",
   "execution_count": 116,
   "id": "3743550b-3ba6-4502-9ae4-6e87a3b28964",
   "metadata": {},
   "outputs": [
    {
     "name": "stdout",
     "output_type": "stream",
     "text": [
      "[0, 1, 2, 3, 4, 5, 6, 7, 8, 9]\n"
     ]
    }
   ],
   "source": [
    "print(list(range(10)))"
   ]
  },
  {
   "cell_type": "code",
   "execution_count": 117,
   "id": "741ea466-95ce-4e8e-824d-455001647ee9",
   "metadata": {},
   "outputs": [
    {
     "name": "stdout",
     "output_type": "stream",
     "text": [
      "hi\n",
      "pw\n",
      "skills\n",
      "ineuron\n"
     ]
    }
   ],
   "source": [
    "print(\"hi\")\n",
    "print(\"pw\")\n",
    "print(\"skills\")\n",
    "print(\"ineuron\")"
   ]
  },
  {
   "cell_type": "code",
   "execution_count": 118,
   "id": "a6166ed9-445d-40df-bc57-f7b64ea991a6",
   "metadata": {},
   "outputs": [
    {
     "name": "stdout",
     "output_type": "stream",
     "text": [
      "hi pw skills ineuron "
     ]
    }
   ],
   "source": [
    "print(\"hi\",end=' ')\n",
    "print(\"pw\",end=' ')\n",
    "print(\"skills\",end=' ')\n",
    "print(\"ineuron\",end=' ')"
   ]
  },
  {
   "cell_type": "code",
   "execution_count": 120,
   "id": "50b8d775-b0ed-4f05-8354-0a6f6c044e40",
   "metadata": {},
   "outputs": [
    {
     "name": "stdout",
     "output_type": "stream",
     "text": [
      "hi @pw@ skills @ineuron @"
     ]
    }
   ],
   "source": [
    "print(\"hi\",end=' @')\n",
    "print(\"pw\",end='@ ')\n",
    "print(\"skills\",end=' @')\n",
    "print(\"ineuron\",end=' @')"
   ]
  },
  {
   "cell_type": "code",
   "execution_count": 122,
   "id": "6bdb4f93-b30e-4ebb-9999-91cb4e464a74",
   "metadata": {},
   "outputs": [
    {
     "name": "stdout",
     "output_type": "stream",
     "text": [
      "0\n",
      "1\n",
      "2\n",
      "3\n",
      "4\n",
      "done\n"
     ]
    }
   ],
   "source": [
    "for i in range(5):\n",
    "    print(i)\n",
    "else:\n",
    "    print(\"done\")"
   ]
  },
  {
   "cell_type": "code",
   "execution_count": 125,
   "id": "d93776a7-c4f7-4633-8996-cfad82a10ee8",
   "metadata": {},
   "outputs": [
    {
     "name": "stdout",
     "output_type": "stream",
     "text": [
      "* \n",
      "* * \n",
      "* * * \n",
      "* * * * \n",
      "* * * * * \n"
     ]
    }
   ],
   "source": [
    "for i in range(5):\n",
    "    for j in range(i+1):\n",
    "        print(\"*\", end =' ')\n",
    "    print()"
   ]
  },
  {
   "cell_type": "code",
   "execution_count": 133,
   "id": "6deb2ea0-fee6-47b9-ac99-a7de796dabbc",
   "metadata": {},
   "outputs": [
    {
     "name": "stdout",
     "output_type": "stream",
     "text": [
      "* * * * * \n",
      "* * * * \n",
      "* * * \n",
      "* * \n",
      "* \n"
     ]
    }
   ],
   "source": [
    "for i in range(5,0,-1):\n",
    "    for j in range(i,0,-1):\n",
    "        print(\"*\", end =' ')\n",
    "    print()"
   ]
  },
  {
   "cell_type": "code",
   "execution_count": 137,
   "id": "72395495-baf1-4f13-aae1-cdef1dc9627e",
   "metadata": {},
   "outputs": [
    {
     "name": "stdout",
     "output_type": "stream",
     "text": [
      "1 2 3 4 5 \n",
      "2 4 6 8 10 \n",
      "3 6 9 12 15 \n",
      "4 8 12 16 20 \n",
      "5 10 15 20 25 \n"
     ]
    }
   ],
   "source": [
    "for i in range(1,6):\n",
    "    for j in range(1,6):\n",
    "        print(i*j, end =' ')\n",
    "    print()"
   ]
  },
  {
   "cell_type": "code",
   "execution_count": 138,
   "id": "cc3242d3-150b-46ac-9abd-9734823c19d0",
   "metadata": {},
   "outputs": [],
   "source": [
    "#while"
   ]
  },
  {
   "cell_type": "code",
   "execution_count": 1,
   "id": "bf55cb7a-2d30-4371-87c2-7347d8db933f",
   "metadata": {},
   "outputs": [
    {
     "name": "stdin",
     "output_type": "stream",
     "text": [
      "enter a word pw\n"
     ]
    },
    {
     "name": "stdout",
     "output_type": "stream",
     "text": [
      "You eneterd  pw\n"
     ]
    },
    {
     "name": "stdin",
     "output_type": "stream",
     "text": [
      "enter a word skills\n"
     ]
    },
    {
     "name": "stdout",
     "output_type": "stream",
     "text": [
      "You eneterd  skills\n"
     ]
    },
    {
     "name": "stdin",
     "output_type": "stream",
     "text": [
      "enter a word quit\n"
     ]
    },
    {
     "name": "stdout",
     "output_type": "stream",
     "text": [
      "You eneterd  quit\n"
     ]
    }
   ],
   "source": [
    "text =\" \"\n",
    "\n",
    "while text != \"quit\":\n",
    "    text=input(\"enter a word\")\n",
    "    print(\"You eneterd \", text)"
   ]
  },
  {
   "cell_type": "code",
   "execution_count": null,
   "id": "027e8f5c-6f8a-4dc4-ba07-4be21ee2f270",
   "metadata": {},
   "outputs": [],
   "source": [
    "# if you know how times you will iterate go with 'for loop'\n",
    "# if you don't know how many times ypu will iterate g0 with 'while loop'"
   ]
  },
  {
   "cell_type": "code",
   "execution_count": 5,
   "id": "f369651f-aeab-4ef6-8472-73d417587edb",
   "metadata": {},
   "outputs": [
    {
     "data": {
      "text/plain": [
       "int"
      ]
     },
     "execution_count": 5,
     "metadata": {},
     "output_type": "execute_result"
    }
   ],
   "source": [
    "text= '1'\n",
    "text=int(text)\n",
    "type(text)\n"
   ]
  },
  {
   "cell_type": "code",
   "execution_count": null,
   "id": "037dc7a5-2826-4e06-90e2-ee4a144216d7",
   "metadata": {},
   "outputs": [],
   "source": [
    "# while lopps execute until it is not met the specified criteria"
   ]
  },
  {
   "cell_type": "code",
   "execution_count": 9,
   "id": "cb44a764-6de8-4fb6-9299-6cf159c56a38",
   "metadata": {},
   "outputs": [
    {
     "name": "stdin",
     "output_type": "stream",
     "text": [
      "enter your age 2\n"
     ]
    },
    {
     "name": "stdout",
     "output_type": "stream",
     "text": [
      "You eneterd  2\n"
     ]
    },
    {
     "name": "stdin",
     "output_type": "stream",
     "text": [
      "enter your age 23\n"
     ]
    },
    {
     "name": "stdout",
     "output_type": "stream",
     "text": [
      "You eneterd  23\n"
     ]
    }
   ],
   "source": [
    "# guess the age\n",
    "age = 0\n",
    "\n",
    "while age != 23:\n",
    "    age=int(input(\"enter your age\"))\n",
    "    print(\"You eneterd \", age)"
   ]
  },
  {
   "cell_type": "code",
   "execution_count": 4,
   "id": "555c81e9-7cca-442c-84fa-3b751ec9c491",
   "metadata": {},
   "outputs": [
    {
     "name": "stdin",
     "output_type": "stream",
     "text": [
      "enter the age 12\n"
     ]
    },
    {
     "name": "stdout",
     "output_type": "stream",
     "text": [
      "you eneterd 12\n"
     ]
    },
    {
     "name": "stdin",
     "output_type": "stream",
     "text": [
      "enter the age 1\n"
     ]
    },
    {
     "name": "stdout",
     "output_type": "stream",
     "text": [
      "you eneterd 1\n"
     ]
    },
    {
     "name": "stdin",
     "output_type": "stream",
     "text": [
      "enter the age 23\n"
     ]
    },
    {
     "name": "stdout",
     "output_type": "stream",
     "text": [
      "you eneterd 23\n"
     ]
    }
   ],
   "source": [
    "list1=[23,34,56,78]\n",
    "age=0\n",
    "while age not in list1:\n",
    "    age=int(input(\"enter the age\"))\n",
    "    print(\"you eneterd\",age)\n",
    "    "
   ]
  },
  {
   "cell_type": "code",
   "execution_count": null,
   "id": "df07716d-e450-4b59-90bd-3d5479560e6a",
   "metadata": {},
   "outputs": [],
   "source": []
  }
 ],
 "metadata": {
  "kernelspec": {
   "display_name": "Python 3 (ipykernel)",
   "language": "python",
   "name": "python3"
  },
  "language_info": {
   "codemirror_mode": {
    "name": "ipython",
    "version": 3
   },
   "file_extension": ".py",
   "mimetype": "text/x-python",
   "name": "python",
   "nbconvert_exporter": "python",
   "pygments_lexer": "ipython3",
   "version": "3.10.8"
  }
 },
 "nbformat": 4,
 "nbformat_minor": 5
}
