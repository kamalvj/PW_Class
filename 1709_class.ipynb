{
 "cells": [
  {
   "cell_type": "markdown",
   "id": "32de5c64-3509-42db-9037-047d503fab05",
   "metadata": {},
   "source": [
    "# Function"
   ]
  },
  {
   "cell_type": "code",
   "execution_count": 1,
   "id": "31dc578c-aae1-4e3f-84d4-d306de88e7d6",
   "metadata": {},
   "outputs": [],
   "source": [
    "def test():\n",
    "    print(\"this is my first function\")"
   ]
  },
  {
   "cell_type": "code",
   "execution_count": 2,
   "id": "d5dfa917-786d-49cf-8707-25143255528a",
   "metadata": {},
   "outputs": [
    {
     "name": "stdout",
     "output_type": "stream",
     "text": [
      "this is my first function\n"
     ]
    }
   ],
   "source": [
    "test()"
   ]
  },
  {
   "cell_type": "code",
   "execution_count": 3,
   "id": "127fc7a5-f350-4624-9a21-c59483b77949",
   "metadata": {},
   "outputs": [],
   "source": [
    "def test1():\n",
    "    print(\"test\")"
   ]
  },
  {
   "cell_type": "code",
   "execution_count": 4,
   "id": "e51df226-8ff0-433c-89a9-f145105ba2b0",
   "metadata": {},
   "outputs": [
    {
     "name": "stdout",
     "output_type": "stream",
     "text": [
      "test\n"
     ]
    },
    {
     "ename": "TypeError",
     "evalue": "unsupported operand type(s) for +: 'NoneType' and 'str'",
     "output_type": "error",
     "traceback": [
      "\u001b[0;31m---------------------------------------------------------------------------\u001b[0m",
      "\u001b[0;31mTypeError\u001b[0m                                 Traceback (most recent call last)",
      "Cell \u001b[0;32mIn[4], line 1\u001b[0m\n\u001b[0;32m----> 1\u001b[0m \u001b[43mtest1\u001b[49m\u001b[43m(\u001b[49m\u001b[43m)\u001b[49m\u001b[43m \u001b[49m\u001b[38;5;241;43m+\u001b[39;49m\u001b[43m \u001b[49m\u001b[38;5;124;43m\"\u001b[39;49m\u001b[38;5;124;43msuch\u001b[39;49m\u001b[38;5;124;43m\"\u001b[39;49m\n",
      "\u001b[0;31mTypeError\u001b[0m: unsupported operand type(s) for +: 'NoneType' and 'str'"
     ]
    }
   ],
   "source": [
    "test1() + \"such\""
   ]
  },
  {
   "cell_type": "code",
   "execution_count": 5,
   "id": "bf7db9a7-0b6c-4f4c-86b0-c3a5ef1bb522",
   "metadata": {},
   "outputs": [
    {
     "name": "stdout",
     "output_type": "stream",
     "text": [
      "test\n"
     ]
    },
    {
     "data": {
      "text/plain": [
       "NoneType"
      ]
     },
     "execution_count": 5,
     "metadata": {},
     "output_type": "execute_result"
    }
   ],
   "source": [
    "type(test1())"
   ]
  },
  {
   "cell_type": "code",
   "execution_count": 6,
   "id": "100053c4-14c0-4e5b-aa41-941798b96425",
   "metadata": {},
   "outputs": [],
   "source": [
    "def test2():\n",
    "    print(1+2)\n"
   ]
  },
  {
   "cell_type": "code",
   "execution_count": 7,
   "id": "cff00d4f-4882-4ab4-8e40-8319121f4eae",
   "metadata": {},
   "outputs": [
    {
     "name": "stdout",
     "output_type": "stream",
     "text": [
      "3\n"
     ]
    },
    {
     "ename": "TypeError",
     "evalue": "unsupported operand type(s) for +: 'NoneType' and 'int'",
     "output_type": "error",
     "traceback": [
      "\u001b[0;31m---------------------------------------------------------------------------\u001b[0m",
      "\u001b[0;31mTypeError\u001b[0m                                 Traceback (most recent call last)",
      "Cell \u001b[0;32mIn[7], line 1\u001b[0m\n\u001b[0;32m----> 1\u001b[0m \u001b[43mtest2\u001b[49m\u001b[43m(\u001b[49m\u001b[43m)\u001b[49m\u001b[43m \u001b[49m\u001b[38;5;241;43m+\u001b[39;49m\u001b[43m \u001b[49m\u001b[38;5;241;43m10\u001b[39;49m\n",
      "\u001b[0;31mTypeError\u001b[0m: unsupported operand type(s) for +: 'NoneType' and 'int'"
     ]
    }
   ],
   "source": [
    "test2() + 10"
   ]
  },
  {
   "cell_type": "code",
   "execution_count": 9,
   "id": "19fcbf4b-de0d-46b4-8535-f7095902a077",
   "metadata": {},
   "outputs": [],
   "source": [
    "def test3():\n",
    "    return 1+2"
   ]
  },
  {
   "cell_type": "code",
   "execution_count": 10,
   "id": "2ce643ad-24a9-45c9-9cb3-703e66d8b76d",
   "metadata": {},
   "outputs": [
    {
     "data": {
      "text/plain": [
       "13"
      ]
     },
     "execution_count": 10,
     "metadata": {},
     "output_type": "execute_result"
    }
   ],
   "source": [
    "test3() + 10"
   ]
  },
  {
   "cell_type": "code",
   "execution_count": 11,
   "id": "8179e17e-e953-4bcd-9cc7-d30daf6c27fc",
   "metadata": {},
   "outputs": [
    {
     "data": {
      "text/plain": [
       "int"
      ]
     },
     "execution_count": 11,
     "metadata": {},
     "output_type": "execute_result"
    }
   ],
   "source": [
    "type(test3())"
   ]
  },
  {
   "cell_type": "code",
   "execution_count": 13,
   "id": "c336c346-1e43-4fcd-af87-017ecdced0f2",
   "metadata": {},
   "outputs": [],
   "source": [
    "def test4():\n",
    "    return 2, 'van', True, [1,2,3,4,5]"
   ]
  },
  {
   "cell_type": "code",
   "execution_count": 14,
   "id": "81fb71bb-c597-46d6-a2a5-be75cbcb73e7",
   "metadata": {},
   "outputs": [
    {
     "data": {
      "text/plain": [
       "(2, 'van', True, [1, 2, 3, 4, 5])"
      ]
     },
     "execution_count": 14,
     "metadata": {},
     "output_type": "execute_result"
    }
   ],
   "source": [
    "test4()"
   ]
  },
  {
   "cell_type": "code",
   "execution_count": 15,
   "id": "8ca75325-04d0-478f-a8f6-0f569a54127b",
   "metadata": {},
   "outputs": [
    {
     "data": {
      "text/plain": [
       "tuple"
      ]
     },
     "execution_count": 15,
     "metadata": {},
     "output_type": "execute_result"
    }
   ],
   "source": [
    "type(test4())"
   ]
  },
  {
   "cell_type": "code",
   "execution_count": 16,
   "id": "376cff39-bf83-4adf-8aea-07d64f68f7ba",
   "metadata": {},
   "outputs": [],
   "source": [
    "m,n,o,p=test4()"
   ]
  },
  {
   "cell_type": "code",
   "execution_count": 17,
   "id": "4b2fadfd-07e0-48ab-bdf8-e0363d0a8253",
   "metadata": {},
   "outputs": [
    {
     "data": {
      "text/plain": [
       "2"
      ]
     },
     "execution_count": 17,
     "metadata": {},
     "output_type": "execute_result"
    }
   ],
   "source": [
    "m"
   ]
  },
  {
   "cell_type": "code",
   "execution_count": 18,
   "id": "95b2025c-8c8e-4ba7-96e4-f55faac57152",
   "metadata": {},
   "outputs": [
    {
     "data": {
      "text/plain": [
       "'van'"
      ]
     },
     "execution_count": 18,
     "metadata": {},
     "output_type": "execute_result"
    }
   ],
   "source": [
    "n"
   ]
  },
  {
   "cell_type": "code",
   "execution_count": 19,
   "id": "60ae99fd-bf71-443d-bb6f-0d26baab32f8",
   "metadata": {},
   "outputs": [
    {
     "data": {
      "text/plain": [
       "True"
      ]
     },
     "execution_count": 19,
     "metadata": {},
     "output_type": "execute_result"
    }
   ],
   "source": [
    "o"
   ]
  },
  {
   "cell_type": "code",
   "execution_count": 20,
   "id": "8dcdc613-b56a-4691-b3eb-61da33d41d9e",
   "metadata": {},
   "outputs": [
    {
     "data": {
      "text/plain": [
       "[1, 2, 3, 4, 5]"
      ]
     },
     "execution_count": 20,
     "metadata": {},
     "output_type": "execute_result"
    }
   ],
   "source": [
    "p"
   ]
  },
  {
   "cell_type": "code",
   "execution_count": 21,
   "id": "ee35d027-c8d0-498e-98fc-a6717877d7bf",
   "metadata": {},
   "outputs": [],
   "source": [
    "def test5(x):\n",
    "    return x"
   ]
  },
  {
   "cell_type": "code",
   "execution_count": 22,
   "id": "1437c8b1-ede6-4623-9bc3-0fe06c2cca0e",
   "metadata": {},
   "outputs": [
    {
     "data": {
      "text/plain": [
       "5"
      ]
     },
     "execution_count": 22,
     "metadata": {},
     "output_type": "execute_result"
    }
   ],
   "source": [
    "test5(5)"
   ]
  },
  {
   "cell_type": "code",
   "execution_count": 23,
   "id": "126c126b-70a9-4bb2-8113-c95b874604cb",
   "metadata": {},
   "outputs": [
    {
     "data": {
      "text/plain": [
       "'van'"
      ]
     },
     "execution_count": 23,
     "metadata": {},
     "output_type": "execute_result"
    }
   ],
   "source": [
    "test5('van')"
   ]
  },
  {
   "cell_type": "code",
   "execution_count": 24,
   "id": "af855d24-62b2-4eda-a4a6-0ab68ef319ee",
   "metadata": {},
   "outputs": [
    {
     "data": {
      "text/plain": [
       "[1, 2, 3, 4, 5]"
      ]
     },
     "execution_count": 24,
     "metadata": {},
     "output_type": "execute_result"
    }
   ],
   "source": [
    "test5([1,2,3,4,5])"
   ]
  },
  {
   "cell_type": "code",
   "execution_count": 25,
   "id": "a94b13fc-40fb-4b05-8b46-19cf17185abf",
   "metadata": {},
   "outputs": [
    {
     "ename": "TypeError",
     "evalue": "test5() takes 1 positional argument but 2 were given",
     "output_type": "error",
     "traceback": [
      "\u001b[0;31m---------------------------------------------------------------------------\u001b[0m",
      "\u001b[0;31mTypeError\u001b[0m                                 Traceback (most recent call last)",
      "Cell \u001b[0;32mIn[25], line 1\u001b[0m\n\u001b[0;32m----> 1\u001b[0m \u001b[43mtest5\u001b[49m\u001b[43m(\u001b[49m\u001b[38;5;241;43m4\u001b[39;49m\u001b[43m,\u001b[49m\u001b[38;5;241;43m5\u001b[39;49m\u001b[43m)\u001b[49m\n",
      "\u001b[0;31mTypeError\u001b[0m: test5() takes 1 positional argument but 2 were given"
     ]
    }
   ],
   "source": [
    "test5(4,5)"
   ]
  },
  {
   "cell_type": "code",
   "execution_count": 26,
   "id": "2675a684-751b-4738-a7a5-7752ff445bf8",
   "metadata": {},
   "outputs": [
    {
     "ename": "TypeError",
     "evalue": "test5() missing 1 required positional argument: 'x'",
     "output_type": "error",
     "traceback": [
      "\u001b[0;31m---------------------------------------------------------------------------\u001b[0m",
      "\u001b[0;31mTypeError\u001b[0m                                 Traceback (most recent call last)",
      "Cell \u001b[0;32mIn[26], line 1\u001b[0m\n\u001b[0;32m----> 1\u001b[0m \u001b[43mtest5\u001b[49m\u001b[43m(\u001b[49m\u001b[43m)\u001b[49m\n",
      "\u001b[0;31mTypeError\u001b[0m: test5() missing 1 required positional argument: 'x'"
     ]
    }
   ],
   "source": [
    "test5()"
   ]
  },
  {
   "cell_type": "code",
   "execution_count": 27,
   "id": "82d3eb50-7b2c-43c5-9dc2-54cab0eb1d8d",
   "metadata": {},
   "outputs": [],
   "source": [
    "def test6(x,y):\n",
    "    return x,y\n"
   ]
  },
  {
   "cell_type": "code",
   "execution_count": 28,
   "id": "68426b6d-165f-4b9c-aa8b-744fd7cb32ab",
   "metadata": {},
   "outputs": [
    {
     "data": {
      "text/plain": [
       "('van', [1, 2, 3])"
      ]
     },
     "execution_count": 28,
     "metadata": {},
     "output_type": "execute_result"
    }
   ],
   "source": [
    "test6('van', [1,2,3])"
   ]
  },
  {
   "cell_type": "code",
   "execution_count": 29,
   "id": "3e5c088d-5bd5-42d1-b95e-b01fe360889a",
   "metadata": {},
   "outputs": [],
   "source": [
    "def test7(a:int, b:int):\n",
    "    return a,b"
   ]
  },
  {
   "cell_type": "code",
   "execution_count": 30,
   "id": "f7f33a2d-c228-40af-8d82-53e361d895b8",
   "metadata": {},
   "outputs": [
    {
     "data": {
      "text/plain": [
       "(4, 5)"
      ]
     },
     "execution_count": 30,
     "metadata": {},
     "output_type": "execute_result"
    }
   ],
   "source": [
    "test7(4,5)"
   ]
  },
  {
   "cell_type": "code",
   "execution_count": 32,
   "id": "18b1f957-4421-4c6d-9a67-bfd7fd96331b",
   "metadata": {},
   "outputs": [
    {
     "data": {
      "text/plain": [
       "('abc', [1, 2, 3])"
      ]
     },
     "execution_count": 32,
     "metadata": {},
     "output_type": "execute_result"
    }
   ],
   "source": [
    "test7('abc',[1,2,3])"
   ]
  },
  {
   "cell_type": "code",
   "execution_count": 33,
   "id": "cd1f8566-e9d2-4d10-a04a-6e61c60cb2b4",
   "metadata": {},
   "outputs": [],
   "source": [
    "def test8(x:int, y:int):\n",
    "    return x/y"
   ]
  },
  {
   "cell_type": "code",
   "execution_count": 34,
   "id": "ba66148d-8d99-4186-97e5-684158f2b3fa",
   "metadata": {},
   "outputs": [
    {
     "data": {
      "text/plain": [
       "0.8"
      ]
     },
     "execution_count": 34,
     "metadata": {},
     "output_type": "execute_result"
    }
   ],
   "source": [
    "test8(4,5)"
   ]
  },
  {
   "cell_type": "code",
   "execution_count": 35,
   "id": "b8180666-2010-4e39-beb8-f0d4532c1abc",
   "metadata": {},
   "outputs": [
    {
     "ename": "TypeError",
     "evalue": "unsupported operand type(s) for /: 'str' and 'str'",
     "output_type": "error",
     "traceback": [
      "\u001b[0;31m---------------------------------------------------------------------------\u001b[0m",
      "\u001b[0;31mTypeError\u001b[0m                                 Traceback (most recent call last)",
      "Cell \u001b[0;32mIn[35], line 1\u001b[0m\n\u001b[0;32m----> 1\u001b[0m \u001b[43mtest8\u001b[49m\u001b[43m(\u001b[49m\u001b[38;5;124;43m\"\u001b[39;49m\u001b[38;5;124;43mabc\u001b[39;49m\u001b[38;5;124;43m\"\u001b[39;49m\u001b[43m,\u001b[49m\u001b[38;5;124;43m\"\u001b[39;49m\u001b[38;5;124;43mdef\u001b[39;49m\u001b[38;5;124;43m\"\u001b[39;49m\u001b[43m)\u001b[49m\n",
      "Cell \u001b[0;32mIn[33], line 2\u001b[0m, in \u001b[0;36mtest8\u001b[0;34m(x, y)\u001b[0m\n\u001b[1;32m      1\u001b[0m \u001b[38;5;28;01mdef\u001b[39;00m \u001b[38;5;21mtest8\u001b[39m(x:\u001b[38;5;28mint\u001b[39m, y:\u001b[38;5;28mint\u001b[39m):\n\u001b[0;32m----> 2\u001b[0m     \u001b[38;5;28;01mreturn\u001b[39;00m \u001b[43mx\u001b[49m\u001b[38;5;241;43m/\u001b[39;49m\u001b[43my\u001b[49m\n",
      "\u001b[0;31mTypeError\u001b[0m: unsupported operand type(s) for /: 'str' and 'str'"
     ]
    }
   ],
   "source": [
    "test8(\"abc\",\"def\")"
   ]
  },
  {
   "cell_type": "code",
   "execution_count": 38,
   "id": "c9300eec-b587-4465-99c0-0c252f3eed99",
   "metadata": {},
   "outputs": [],
   "source": [
    "def test9(c,d):\n",
    "    \"\"\" this is my function which can take two inputs and return a addition or concatenation\n",
    "    \"\"\"\n",
    "    return c+d"
   ]
  },
  {
   "cell_type": "code",
   "execution_count": 37,
   "id": "cf49d289-e7f2-4f67-82ab-0aa2c8f067dd",
   "metadata": {},
   "outputs": [
    {
     "data": {
      "text/plain": [
       "<function __main__.test9(c, d)>"
      ]
     },
     "execution_count": 37,
     "metadata": {},
     "output_type": "execute_result"
    }
   ],
   "source": [
    "test9()"
   ]
  },
  {
   "cell_type": "code",
   "execution_count": 39,
   "id": "9c6434d9-a304-4393-872a-1a2573580958",
   "metadata": {},
   "outputs": [],
   "source": [
    "def test10(*args):\n",
    "    return args"
   ]
  },
  {
   "cell_type": "code",
   "execution_count": 40,
   "id": "70236ef9-1e54-40b2-991e-5a9939b6f68f",
   "metadata": {},
   "outputs": [
    {
     "data": {
      "text/plain": [
       "()"
      ]
     },
     "execution_count": 40,
     "metadata": {},
     "output_type": "execute_result"
    }
   ],
   "source": [
    "test10()"
   ]
  },
  {
   "cell_type": "code",
   "execution_count": 41,
   "id": "6f246361-e849-4da0-b79f-b3e21f017b67",
   "metadata": {},
   "outputs": [
    {
     "data": {
      "text/plain": [
       "(2, 3, 4, 5, 6, 6, 7)"
      ]
     },
     "execution_count": 41,
     "metadata": {},
     "output_type": "execute_result"
    }
   ],
   "source": [
    "test10(2,3,4,5,6,6,7)"
   ]
  },
  {
   "cell_type": "code",
   "execution_count": 42,
   "id": "80c6aa44-0c26-4460-9a39-228759e5ea13",
   "metadata": {},
   "outputs": [],
   "source": [
    "def test11(*van):\n",
    "    return van"
   ]
  },
  {
   "cell_type": "code",
   "execution_count": 43,
   "id": "203d0b68-cd4f-4ac2-a7b0-e000152132a2",
   "metadata": {},
   "outputs": [
    {
     "data": {
      "text/plain": [
       "(2, 5, 7, 9, 11)"
      ]
     },
     "execution_count": 43,
     "metadata": {},
     "output_type": "execute_result"
    }
   ],
   "source": [
    "test11(2,5,7,9,11)"
   ]
  },
  {
   "cell_type": "code",
   "execution_count": 44,
   "id": "c808641d-a1d6-4a07-bdf2-ee47973070c0",
   "metadata": {},
   "outputs": [],
   "source": [
    "def test12(**kwargs):\n",
    "    return kwargs"
   ]
  },
  {
   "cell_type": "code",
   "execution_count": 45,
   "id": "f8bda4ec-5716-4a1e-b149-102e5afa4278",
   "metadata": {},
   "outputs": [
    {
     "ename": "TypeError",
     "evalue": "test12() takes 0 positional arguments but 3 were given",
     "output_type": "error",
     "traceback": [
      "\u001b[0;31m---------------------------------------------------------------------------\u001b[0m",
      "\u001b[0;31mTypeError\u001b[0m                                 Traceback (most recent call last)",
      "Cell \u001b[0;32mIn[45], line 1\u001b[0m\n\u001b[0;32m----> 1\u001b[0m \u001b[43mtest12\u001b[49m\u001b[43m(\u001b[49m\u001b[38;5;241;43m4\u001b[39;49m\u001b[43m,\u001b[49m\u001b[38;5;241;43m5\u001b[39;49m\u001b[43m,\u001b[49m\u001b[38;5;241;43m6\u001b[39;49m\u001b[43m)\u001b[49m\n",
      "\u001b[0;31mTypeError\u001b[0m: test12() takes 0 positional arguments but 3 were given"
     ]
    }
   ],
   "source": [
    "test12(4,5,6)"
   ]
  },
  {
   "cell_type": "code",
   "execution_count": 46,
   "id": "f03e383b-c28b-4847-b9d5-294c48a3ff95",
   "metadata": {},
   "outputs": [
    {
     "data": {
      "text/plain": [
       "{'a': 4, 'b': 5, 'c': 6}"
      ]
     },
     "execution_count": 46,
     "metadata": {},
     "output_type": "execute_result"
    }
   ],
   "source": [
    "test12(a=4,b=5,c=6)"
   ]
  },
  {
   "cell_type": "code",
   "execution_count": 47,
   "id": "d0e82599-3993-45ef-9f87-cdc29335ea49",
   "metadata": {},
   "outputs": [
    {
     "data": {
      "text/plain": [
       "{'n': {'a': 4, 'b': 5, 'c': 6}}"
      ]
     },
     "execution_count": 47,
     "metadata": {},
     "output_type": "execute_result"
    }
   ],
   "source": [
    "test12(n={'a': 4, 'b': 5, 'c': 6})"
   ]
  },
  {
   "cell_type": "code",
   "execution_count": 48,
   "id": "88a72c1a-a15b-4e40-97c7-0ff731ef37ce",
   "metadata": {},
   "outputs": [],
   "source": [
    "def test13(b, a = 10 , c = 20):\n",
    "    return a,b,c"
   ]
  },
  {
   "cell_type": "code",
   "execution_count": 49,
   "id": "909e7ed3-82fa-4f48-9fd0-122bf4301962",
   "metadata": {},
   "outputs": [
    {
     "data": {
      "text/plain": [
       "(10, 56, 20)"
      ]
     },
     "execution_count": 49,
     "metadata": {},
     "output_type": "execute_result"
    }
   ],
   "source": [
    "test13(56)"
   ]
  },
  {
   "cell_type": "code",
   "execution_count": 50,
   "id": "58bacebb-694f-4201-8fac-f3591cee976c",
   "metadata": {},
   "outputs": [
    {
     "data": {
      "text/plain": [
       "(45, 34, 20)"
      ]
     },
     "execution_count": 50,
     "metadata": {},
     "output_type": "execute_result"
    }
   ],
   "source": [
    "test13(34, a = 45)"
   ]
  },
  {
   "cell_type": "code",
   "execution_count": 51,
   "id": "809c7871-fd65-46cc-bed5-53075e503c9d",
   "metadata": {},
   "outputs": [],
   "source": [
    "v = test13(4,5,67)"
   ]
  },
  {
   "cell_type": "code",
   "execution_count": 52,
   "id": "ff57a81d-9eee-4e17-bb7f-a087f00ab3e6",
   "metadata": {},
   "outputs": [
    {
     "data": {
      "text/plain": [
       "(5, 4, 67)"
      ]
     },
     "execution_count": 52,
     "metadata": {},
     "output_type": "execute_result"
    }
   ],
   "source": [
    "v"
   ]
  },
  {
   "cell_type": "code",
   "execution_count": 53,
   "id": "fd94d081-ef0d-4e29-bc7a-86efa780a835",
   "metadata": {},
   "outputs": [],
   "source": [
    "def test14(a,b):\n",
    "    return a+b"
   ]
  },
  {
   "cell_type": "code",
   "execution_count": 54,
   "id": "ada776af-7770-4882-957e-44697e339b3f",
   "metadata": {},
   "outputs": [
    {
     "data": {
      "text/plain": [
       "11"
      ]
     },
     "execution_count": 54,
     "metadata": {},
     "output_type": "execute_result"
    }
   ],
   "source": [
    "test14(5,6)"
   ]
  },
  {
   "cell_type": "code",
   "execution_count": 55,
   "id": "290ead96-602c-4814-844f-2eb23cd496a5",
   "metadata": {},
   "outputs": [],
   "source": [
    "m = lambda a,b : a+b"
   ]
  },
  {
   "cell_type": "code",
   "execution_count": 56,
   "id": "d62ef1c8-d558-49a2-a78c-946e2dded2d8",
   "metadata": {},
   "outputs": [
    {
     "data": {
      "text/plain": [
       "<function __main__.<lambda>(a, b)>"
      ]
     },
     "execution_count": 56,
     "metadata": {},
     "output_type": "execute_result"
    }
   ],
   "source": [
    "m"
   ]
  },
  {
   "cell_type": "code",
   "execution_count": 58,
   "id": "253a4185-dd9b-414e-b5b2-228527843532",
   "metadata": {},
   "outputs": [
    {
     "data": {
      "text/plain": [
       "<function __main__.test14(a, b)>"
      ]
     },
     "execution_count": 58,
     "metadata": {},
     "output_type": "execute_result"
    }
   ],
   "source": [
    "test14"
   ]
  },
  {
   "cell_type": "code",
   "execution_count": 59,
   "id": "db6a2e08-25f7-45bf-8b3f-a5fa421ae104",
   "metadata": {},
   "outputs": [
    {
     "data": {
      "text/plain": [
       "7"
      ]
     },
     "execution_count": 59,
     "metadata": {},
     "output_type": "execute_result"
    }
   ],
   "source": [
    "m(3,4)"
   ]
  },
  {
   "cell_type": "code",
   "execution_count": 60,
   "id": "7c08d04e-c965-4dc0-a3ca-450ad5713c1d",
   "metadata": {},
   "outputs": [],
   "source": [
    "def check_even(n):\n",
    "    if n%2==0:\n",
    "        return \"given number is an even number\"\n",
    "    else:\n",
    "        return \"given number is not an even number\""
   ]
  },
  {
   "cell_type": "code",
   "execution_count": 61,
   "id": "c512ecf9-865e-488e-b2ea-3c1d43bf4a44",
   "metadata": {},
   "outputs": [
    {
     "data": {
      "text/plain": [
       "'given number is not an even number'"
      ]
     },
     "execution_count": 61,
     "metadata": {},
     "output_type": "execute_result"
    }
   ],
   "source": [
    "check_even(3)"
   ]
  },
  {
   "cell_type": "code",
   "execution_count": 62,
   "id": "652e5f2a-1c42-4222-8ec8-95d944de8e51",
   "metadata": {},
   "outputs": [
    {
     "data": {
      "text/plain": [
       "1"
      ]
     },
     "execution_count": 62,
     "metadata": {},
     "output_type": "execute_result"
    }
   ],
   "source": [
    "3%2"
   ]
  },
  {
   "cell_type": "code",
   "execution_count": null,
   "id": "40ed0dcb-f972-4f85-830b-a8d9be71d0be",
   "metadata": {},
   "outputs": [],
   "source": [
    "a =lambda a : a%2==0"
   ]
  },
  {
   "cell_type": "code",
   "execution_count": 63,
   "id": "6230e48e-7ebe-4ca4-bd57-ff721d9623d5",
   "metadata": {},
   "outputs": [],
   "source": [
    "b = lambda n : \"givan number is an even number\" if n%2==0 else \"given number is not an even number\""
   ]
  },
  {
   "cell_type": "code",
   "execution_count": 64,
   "id": "fa382e59-cc45-4faa-8be6-2ceb3be726c9",
   "metadata": {},
   "outputs": [
    {
     "data": {
      "text/plain": [
       "'givan number is an even number'"
      ]
     },
     "execution_count": 64,
     "metadata": {},
     "output_type": "execute_result"
    }
   ],
   "source": [
    "b(4)"
   ]
  },
  {
   "cell_type": "code",
   "execution_count": 65,
   "id": "e1fe212c-aaa2-419e-b26d-0322c953778a",
   "metadata": {},
   "outputs": [
    {
     "data": {
      "text/plain": [
       "'given number is not an even number'"
      ]
     },
     "execution_count": 65,
     "metadata": {},
     "output_type": "execute_result"
    }
   ],
   "source": [
    "b(3)"
   ]
  },
  {
   "cell_type": "code",
   "execution_count": 66,
   "id": "56e2f90a-8984-426c-aae2-bbd85dc98d38",
   "metadata": {},
   "outputs": [],
   "source": [
    "l=[3,4,5,78,3,4,2,4,5]\n",
    "min_list=lambda li : min(li)\n"
   ]
  },
  {
   "cell_type": "code",
   "execution_count": 68,
   "id": "c8f0558a-20a6-43bf-96d1-cc5219d99df5",
   "metadata": {},
   "outputs": [
    {
     "data": {
      "text/plain": [
       "2"
      ]
     },
     "execution_count": 68,
     "metadata": {},
     "output_type": "execute_result"
    }
   ],
   "source": [
    "min_list(l)"
   ]
  },
  {
   "cell_type": "code",
   "execution_count": 69,
   "id": "80b0d433-7bdb-4542-8a0c-a3b0ac1eb68a",
   "metadata": {},
   "outputs": [],
   "source": [
    "div = lambda a,b: a/b"
   ]
  },
  {
   "cell_type": "code",
   "execution_count": 70,
   "id": "4e05ff7c-4e3d-409f-b327-1354e262d923",
   "metadata": {},
   "outputs": [
    {
     "data": {
      "text/plain": [
       "1.25"
      ]
     },
     "execution_count": 70,
     "metadata": {},
     "output_type": "execute_result"
    }
   ],
   "source": [
    "div(5,4)"
   ]
  },
  {
   "cell_type": "code",
   "execution_count": 71,
   "id": "6e049e6b-0e2b-43d9-887e-e457dc16112c",
   "metadata": {},
   "outputs": [],
   "source": [
    "upper = lambda s :s.upper()"
   ]
  },
  {
   "cell_type": "code",
   "execution_count": 72,
   "id": "7a303faf-7b03-444c-b62d-1416ef10938a",
   "metadata": {},
   "outputs": [
    {
     "data": {
      "text/plain": [
       "'ABN'"
      ]
     },
     "execution_count": 72,
     "metadata": {},
     "output_type": "execute_result"
    }
   ],
   "source": [
    "upper(\"abn\")"
   ]
  },
  {
   "cell_type": "code",
   "execution_count": 79,
   "id": "892109ac-f7ef-4cf5-bc16-a2896d041005",
   "metadata": {},
   "outputs": [],
   "source": [
    "l=[3,4,5,6,7,8]\n",
    "\n",
    "def sum_odd(b):\n",
    "    li=[]\n",
    "    for i in b:\n",
    "        if i%2!=0:\n",
    "            li.append(i)\n",
    "    return sum(li)\n",
    "    "
   ]
  },
  {
   "cell_type": "code",
   "execution_count": 82,
   "id": "b98f8f84-1b24-41d9-9b7a-146be27c50dd",
   "metadata": {},
   "outputs": [
    {
     "data": {
      "text/plain": [
       "15"
      ]
     },
     "execution_count": 82,
     "metadata": {},
     "output_type": "execute_result"
    }
   ],
   "source": [
    "sum([i for i in l if i %2!=0])"
   ]
  },
  {
   "cell_type": "code",
   "execution_count": 83,
   "id": "619372cd-7cec-4893-a40a-b700c37ea1a6",
   "metadata": {},
   "outputs": [],
   "source": [
    "sum_off_lambda = lambda b : sum([ i for i in l if i%2!=0])"
   ]
  },
  {
   "cell_type": "code",
   "execution_count": 84,
   "id": "91e2a927-17af-4346-98c6-d748f6801213",
   "metadata": {},
   "outputs": [
    {
     "data": {
      "text/plain": [
       "15"
      ]
     },
     "execution_count": 84,
     "metadata": {},
     "output_type": "execute_result"
    }
   ],
   "source": [
    "sum_off_lambda(l)"
   ]
  },
  {
   "cell_type": "code",
   "execution_count": 80,
   "id": "27d37d3f-6602-4dfa-9fc1-2f4a24e931e6",
   "metadata": {},
   "outputs": [
    {
     "data": {
      "text/plain": [
       "15"
      ]
     },
     "execution_count": 80,
     "metadata": {},
     "output_type": "execute_result"
    }
   ],
   "source": [
    "sum_odd(l)"
   ]
  },
  {
   "cell_type": "code",
   "execution_count": 85,
   "id": "aef3095c-ec7c-4845-95fb-4a611da37f55",
   "metadata": {},
   "outputs": [],
   "source": [
    "#recursion\n",
    "def fact_number(n):\n",
    "    if n==0:\n",
    "        return 1\n",
    "    else:\n",
    "        return n*fact_number(n-1)"
   ]
  },
  {
   "cell_type": "code",
   "execution_count": 88,
   "id": "820c9051-a785-4037-99ee-81468d8170c7",
   "metadata": {},
   "outputs": [
    {
     "data": {
      "text/plain": [
       "24"
      ]
     },
     "execution_count": 88,
     "metadata": {},
     "output_type": "execute_result"
    }
   ],
   "source": [
    "fact_number(4)"
   ]
  },
  {
   "cell_type": "code",
   "execution_count": 89,
   "id": "d0ef5609-71ad-4733-b6df-a63631997fd0",
   "metadata": {},
   "outputs": [
    {
     "data": {
      "text/plain": [
       "1"
      ]
     },
     "execution_count": 89,
     "metadata": {},
     "output_type": "execute_result"
    }
   ],
   "source": [
    "fact_number(0)"
   ]
  },
  {
   "cell_type": "code",
   "execution_count": 92,
   "id": "0d39daba-cd6d-4b3a-8190-644b8a4009be",
   "metadata": {},
   "outputs": [],
   "source": [
    "def fact_num(n):\n",
    "    a =1 \n",
    "    for i in range(1,n+1):\n",
    "        a =i*a\n",
    "    return a"
   ]
  },
  {
   "cell_type": "code",
   "execution_count": 93,
   "id": "7ef0e161-79c4-4fb0-a446-b63ff6f69dc3",
   "metadata": {},
   "outputs": [
    {
     "data": {
      "text/plain": [
       "24"
      ]
     },
     "execution_count": 93,
     "metadata": {},
     "output_type": "execute_result"
    }
   ],
   "source": [
    "fact_num(4)"
   ]
  },
  {
   "cell_type": "code",
   "execution_count": 96,
   "id": "c38a19d5-1462-46c8-b59a-3149203bbdd8",
   "metadata": {},
   "outputs": [],
   "source": [
    "fact_num_lambda = lambda n : n if n == 0 else n * fact_num_lambda(n-1)"
   ]
  },
  {
   "cell_type": "code",
   "execution_count": 97,
   "id": "b5f4459a-d29a-4af5-99ec-2dd8f4833b2d",
   "metadata": {},
   "outputs": [
    {
     "data": {
      "text/plain": [
       "0"
      ]
     },
     "execution_count": 97,
     "metadata": {},
     "output_type": "execute_result"
    }
   ],
   "source": [
    "fact_num_lambda(4)"
   ]
  },
  {
   "cell_type": "code",
   "execution_count": 101,
   "id": "00b2b1e4-8237-49cc-a5c5-70904af33f7c",
   "metadata": {},
   "outputs": [],
   "source": [
    "l =[5,6,7,8,89]\n",
    "\n",
    "li = []\n",
    "for i in l:\n",
    "    li.append(i+2)"
   ]
  },
  {
   "cell_type": "code",
   "execution_count": 102,
   "id": "a5917eab-43cd-4a17-b2f5-9a4f2ccf3f28",
   "metadata": {},
   "outputs": [
    {
     "data": {
      "text/plain": [
       "[7, 8, 9, 10, 91]"
      ]
     },
     "execution_count": 102,
     "metadata": {},
     "output_type": "execute_result"
    }
   ],
   "source": [
    "li"
   ]
  },
  {
   "cell_type": "code",
   "execution_count": 105,
   "id": "b5357827-ffc0-4784-9a81-ef72aa2df44e",
   "metadata": {},
   "outputs": [],
   "source": [
    "def add_list(l):\n",
    "    li =[]\n",
    "    for i in l:\n",
    "        li.append(i+2)\n",
    "    return li"
   ]
  },
  {
   "cell_type": "code",
   "execution_count": 106,
   "id": "0b9649ab-c80b-4adb-916d-a5833aa8b730",
   "metadata": {},
   "outputs": [
    {
     "data": {
      "text/plain": [
       "[5, 6, 7, 8, 9]"
      ]
     },
     "execution_count": 106,
     "metadata": {},
     "output_type": "execute_result"
    }
   ],
   "source": [
    "add_list([3,4,5,6,7])"
   ]
  },
  {
   "cell_type": "code",
   "execution_count": 107,
   "id": "6de7ab97-a02d-45f3-a231-8484a1223c68",
   "metadata": {},
   "outputs": [],
   "source": [
    "v = lambda a : a+2"
   ]
  },
  {
   "cell_type": "code",
   "execution_count": 108,
   "id": "25b1bc5c-131c-4273-b006-80e8d0ebef9b",
   "metadata": {},
   "outputs": [
    {
     "data": {
      "text/plain": [
       "12"
      ]
     },
     "execution_count": 108,
     "metadata": {},
     "output_type": "execute_result"
    }
   ],
   "source": [
    "v(10)"
   ]
  },
  {
   "cell_type": "code",
   "execution_count": 110,
   "id": "6f57c963-81c4-4dfc-80f0-d1265f31f794",
   "metadata": {},
   "outputs": [
    {
     "data": {
      "text/plain": [
       "[5, 6, 7, 8, 89]"
      ]
     },
     "execution_count": 110,
     "metadata": {},
     "output_type": "execute_result"
    }
   ],
   "source": [
    "l"
   ]
  },
  {
   "cell_type": "code",
   "execution_count": 109,
   "id": "c7d1a94f-6d24-4e85-b0bd-32344b33bf15",
   "metadata": {},
   "outputs": [
    {
     "data": {
      "text/plain": [
       "[7, 8, 9, 10, 91]"
      ]
     },
     "execution_count": 109,
     "metadata": {},
     "output_type": "execute_result"
    }
   ],
   "source": [
    "list(map(lambda a : a+2,l))"
   ]
  },
  {
   "cell_type": "code",
   "execution_count": 111,
   "id": "470bf874-b9fe-441c-8374-7ce413cc2033",
   "metadata": {},
   "outputs": [],
   "source": [
    "def test34(c):\n",
    "    return c+2"
   ]
  },
  {
   "cell_type": "code",
   "execution_count": 112,
   "id": "268cdecb-9601-4a2b-9318-39c6b883f4e4",
   "metadata": {},
   "outputs": [
    {
     "data": {
      "text/plain": [
       "[7, 8, 9, 10, 91]"
      ]
     },
     "execution_count": 112,
     "metadata": {},
     "output_type": "execute_result"
    }
   ],
   "source": [
    "list(map(test34,l))"
   ]
  },
  {
   "cell_type": "code",
   "execution_count": 113,
   "id": "ff555438-fd8d-499a-95bf-515180f2891c",
   "metadata": {},
   "outputs": [
    {
     "data": {
      "text/plain": [
       "7"
      ]
     },
     "execution_count": 113,
     "metadata": {},
     "output_type": "execute_result"
    }
   ],
   "source": [
    "test34(5)"
   ]
  },
  {
   "cell_type": "code",
   "execution_count": 114,
   "id": "c7b6a1ff-bd86-4e2e-b134-290cc7ab829e",
   "metadata": {},
   "outputs": [
    {
     "data": {
      "text/plain": [
       "8"
      ]
     },
     "execution_count": 114,
     "metadata": {},
     "output_type": "execute_result"
    }
   ],
   "source": [
    "test34(6)"
   ]
  },
  {
   "cell_type": "code",
   "execution_count": 115,
   "id": "92519e6e-5566-42f4-abd8-7dc15e9d0aa9",
   "metadata": {},
   "outputs": [],
   "source": [
    "l = [\"sudh\",\"kumar\",\"pwskills\"]"
   ]
  },
  {
   "cell_type": "code",
   "execution_count": 116,
   "id": "adc2e515-eadf-4eea-bc2e-bccaf2a6469d",
   "metadata": {},
   "outputs": [
    {
     "data": {
      "text/plain": [
       "4"
      ]
     },
     "execution_count": 116,
     "metadata": {},
     "output_type": "execute_result"
    }
   ],
   "source": [
    "len(\"sudh\")"
   ]
  },
  {
   "cell_type": "code",
   "execution_count": 117,
   "id": "94897ebd-d28d-4fd0-aaab-0e508d13db3e",
   "metadata": {},
   "outputs": [
    {
     "data": {
      "text/plain": [
       "5"
      ]
     },
     "execution_count": 117,
     "metadata": {},
     "output_type": "execute_result"
    }
   ],
   "source": [
    "len(\"kumar\")"
   ]
  },
  {
   "cell_type": "code",
   "execution_count": 118,
   "id": "aa30f83b-0212-4d85-87a5-7c8ff58f55ad",
   "metadata": {},
   "outputs": [
    {
     "data": {
      "text/plain": [
       "8"
      ]
     },
     "execution_count": 118,
     "metadata": {},
     "output_type": "execute_result"
    }
   ],
   "source": [
    "len(\"pwskills\")"
   ]
  },
  {
   "cell_type": "code",
   "execution_count": 119,
   "id": "0f0da7b8-e93b-4e79-a48e-9f7ddff6b233",
   "metadata": {},
   "outputs": [
    {
     "data": {
      "text/plain": [
       "[4, 6, 8]"
      ]
     },
     "execution_count": 119,
     "metadata": {},
     "output_type": "execute_result"
    }
   ],
   "source": [
    "[4,6,8]"
   ]
  },
  {
   "cell_type": "code",
   "execution_count": 120,
   "id": "c8865f78-ea00-43d9-88ca-8a90e412797f",
   "metadata": {},
   "outputs": [],
   "source": [
    "li=[]\n",
    "for i in l:\n",
    "    li.append(len(i))"
   ]
  },
  {
   "cell_type": "code",
   "execution_count": 121,
   "id": "9ff25dd1-50bb-43eb-9314-4eb524d0e6be",
   "metadata": {},
   "outputs": [
    {
     "data": {
      "text/plain": [
       "[4, 5, 8]"
      ]
     },
     "execution_count": 121,
     "metadata": {},
     "output_type": "execute_result"
    }
   ],
   "source": [
    "li"
   ]
  },
  {
   "cell_type": "code",
   "execution_count": 125,
   "id": "7b82229e-bbac-4058-bf36-7ee8fb23bfb2",
   "metadata": {},
   "outputs": [],
   "source": [
    "def test35(l):\n",
    "    li =[]\n",
    "    for i in l:\n",
    "        li.append(len(i))\n",
    "    return li"
   ]
  },
  {
   "cell_type": "code",
   "execution_count": 126,
   "id": "fa861865-5acb-4775-8f95-fe1d18c44802",
   "metadata": {},
   "outputs": [
    {
     "data": {
      "text/plain": [
       "[4, 5, 8]"
      ]
     },
     "execution_count": 126,
     "metadata": {},
     "output_type": "execute_result"
    }
   ],
   "source": [
    "test35(l)"
   ]
  },
  {
   "cell_type": "code",
   "execution_count": 127,
   "id": "ba1fb6f7-2e41-403d-850f-a66075285da3",
   "metadata": {},
   "outputs": [
    {
     "data": {
      "text/plain": [
       "[4, 5, 8]"
      ]
     },
     "execution_count": 127,
     "metadata": {},
     "output_type": "execute_result"
    }
   ],
   "source": [
    "list(map(lambda c : len(c), l))"
   ]
  },
  {
   "cell_type": "code",
   "execution_count": 128,
   "id": "cfa26494-2665-456e-a1fa-52dad41ce7f3",
   "metadata": {},
   "outputs": [],
   "source": [
    "def test36(c):\n",
    "    return len(c)"
   ]
  },
  {
   "cell_type": "code",
   "execution_count": 129,
   "id": "1d4c7260-75dc-40ee-991f-d82950991fc5",
   "metadata": {},
   "outputs": [
    {
     "data": {
      "text/plain": [
       "[4, 5, 8]"
      ]
     },
     "execution_count": 129,
     "metadata": {},
     "output_type": "execute_result"
    }
   ],
   "source": [
    "list(map(test36,l))"
   ]
  },
  {
   "cell_type": "code",
   "execution_count": 130,
   "id": "47b09f4e-df87-45f5-a1f5-a3ae0465c961",
   "metadata": {},
   "outputs": [
    {
     "data": {
      "text/plain": [
       "[4, 5, 8]"
      ]
     },
     "execution_count": 130,
     "metadata": {},
     "output_type": "execute_result"
    }
   ],
   "source": [
    "list(map(len,l))"
   ]
  },
  {
   "cell_type": "code",
   "execution_count": 131,
   "id": "16b1da67-1b10-48a4-83f3-8258aec14a51",
   "metadata": {},
   "outputs": [
    {
     "data": {
      "text/plain": [
       "['sudh', 'kumar', 'pwskills']"
      ]
     },
     "execution_count": 131,
     "metadata": {},
     "output_type": "execute_result"
    }
   ],
   "source": [
    "l"
   ]
  },
  {
   "cell_type": "code",
   "execution_count": 133,
   "id": "7d97bee1-2c02-47ea-82d6-525373557ee1",
   "metadata": {},
   "outputs": [
    {
     "data": {
      "text/plain": [
       "['pwskills', 'kumar', 'sudh']"
      ]
     },
     "execution_count": 133,
     "metadata": {},
     "output_type": "execute_result"
    }
   ],
   "source": [
    "l[:: -1]"
   ]
  },
  {
   "cell_type": "code",
   "execution_count": 138,
   "id": "f56a0862-07dc-4c94-8865-fd57d50a67c2",
   "metadata": {},
   "outputs": [
    {
     "data": {
      "text/plain": [
       "['hdus', 'ramuk', 'sllikswp']"
      ]
     },
     "execution_count": 138,
     "metadata": {},
     "output_type": "execute_result"
    }
   ],
   "source": [
    "list(map(lambda a : a[::-1],l))"
   ]
  },
  {
   "cell_type": "code",
   "execution_count": 141,
   "id": "c85d784e-fefb-4367-892c-ef9f3d6114c3",
   "metadata": {},
   "outputs": [],
   "source": [
    "l = [2,3,2,1,4,1]\n",
    "from functools import reduce"
   ]
  },
  {
   "cell_type": "code",
   "execution_count": 142,
   "id": "2bc2af15-62a0-4b14-941a-fd3d0af5b2c8",
   "metadata": {},
   "outputs": [
    {
     "data": {
      "text/plain": [
       "48"
      ]
     },
     "execution_count": 142,
     "metadata": {},
     "output_type": "execute_result"
    }
   ],
   "source": [
    "reduce(lambda a,b : a*b ,l)"
   ]
  },
  {
   "cell_type": "code",
   "execution_count": 143,
   "id": "68414ff1-02c8-4970-b181-449ad00e3e58",
   "metadata": {},
   "outputs": [
    {
     "data": {
      "text/plain": [
       "[2, 3, 2, 1, 4, 1]"
      ]
     },
     "execution_count": 143,
     "metadata": {},
     "output_type": "execute_result"
    }
   ],
   "source": [
    "l"
   ]
  },
  {
   "cell_type": "code",
   "execution_count": 144,
   "id": "9101f4f2-7d44-482f-9ff4-811844860411",
   "metadata": {},
   "outputs": [
    {
     "data": {
      "text/plain": [
       "1"
      ]
     },
     "execution_count": 144,
     "metadata": {},
     "output_type": "execute_result"
    }
   ],
   "source": [
    "min(l)"
   ]
  },
  {
   "cell_type": "code",
   "execution_count": 145,
   "id": "8ea621ca-0a56-4861-b9d7-ea2f3ef08989",
   "metadata": {},
   "outputs": [
    {
     "data": {
      "text/plain": [
       "4"
      ]
     },
     "execution_count": 145,
     "metadata": {},
     "output_type": "execute_result"
    }
   ],
   "source": [
    "max(l)"
   ]
  },
  {
   "cell_type": "code",
   "execution_count": 146,
   "id": "4f743db0-d081-4064-b97b-0a2bb1046792",
   "metadata": {},
   "outputs": [
    {
     "data": {
      "text/plain": [
       "[2, 3, 2, 1, 4, 1]"
      ]
     },
     "execution_count": 146,
     "metadata": {},
     "output_type": "execute_result"
    }
   ],
   "source": [
    "l"
   ]
  },
  {
   "cell_type": "code",
   "execution_count": 147,
   "id": "cb3d3356-2523-49ae-9c5a-23bce2f487ad",
   "metadata": {},
   "outputs": [
    {
     "data": {
      "text/plain": [
       "4"
      ]
     },
     "execution_count": 147,
     "metadata": {},
     "output_type": "execute_result"
    }
   ],
   "source": [
    "#max\n",
    "reduce(lambda a,b : a if a > b else b, l)"
   ]
  },
  {
   "cell_type": "code",
   "execution_count": 148,
   "id": "201eabeb-e6b2-40b0-932e-6d321b878b55",
   "metadata": {},
   "outputs": [
    {
     "data": {
      "text/plain": [
       "1"
      ]
     },
     "execution_count": 148,
     "metadata": {},
     "output_type": "execute_result"
    }
   ],
   "source": [
    "#min\n",
    "reduce(lambda a,b : a if a < b else b, l)"
   ]
  },
  {
   "cell_type": "code",
   "execution_count": 151,
   "id": "8a48d45b-ce2c-4f60-adb7-04d1f5999806",
   "metadata": {},
   "outputs": [
    {
     "data": {
      "text/plain": [
       "24"
      ]
     },
     "execution_count": 151,
     "metadata": {},
     "output_type": "execute_result"
    }
   ],
   "source": [
    "n = 4\n",
    "fact =reduce(lambda a, b : a*b , range(1, n+1))\n",
    "fact"
   ]
  },
  {
   "cell_type": "code",
   "execution_count": 152,
   "id": "43107329-1b04-43ae-b7ed-12ca299a58b5",
   "metadata": {},
   "outputs": [
    {
     "data": {
      "text/plain": [
       "[2, 3, 2, 1, 4, 1]"
      ]
     },
     "execution_count": 152,
     "metadata": {},
     "output_type": "execute_result"
    }
   ],
   "source": [
    "l"
   ]
  },
  {
   "cell_type": "code",
   "execution_count": 154,
   "id": "9d6b7eb3-9d1b-41b4-abf2-f04bfa73d52d",
   "metadata": {},
   "outputs": [
    {
     "data": {
      "text/plain": [
       "16"
      ]
     },
     "execution_count": 154,
     "metadata": {},
     "output_type": "execute_result"
    }
   ],
   "source": [
    "reduce(lambda a,b: a*b, [i for i in l if i%2==0])"
   ]
  },
  {
   "cell_type": "code",
   "execution_count": 156,
   "id": "e085b8f2-7cb9-41a3-bcf7-95cffc23dbcd",
   "metadata": {},
   "outputs": [
    {
     "data": {
      "text/plain": [
       "3"
      ]
     },
     "execution_count": 156,
     "metadata": {},
     "output_type": "execute_result"
    }
   ],
   "source": [
    "reduce(lambda a,b : a*b, [i for i in l if i%2!=0])"
   ]
  },
  {
   "cell_type": "code",
   "execution_count": 158,
   "id": "72a0a437-deaf-4502-8106-2417cc114f81",
   "metadata": {},
   "outputs": [
    {
     "data": {
      "text/plain": [
       "[2, 3, 2, 1, 4, 1]"
      ]
     },
     "execution_count": 158,
     "metadata": {},
     "output_type": "execute_result"
    }
   ],
   "source": [
    "l"
   ]
  },
  {
   "cell_type": "code",
   "execution_count": 160,
   "id": "5b1820bd-bca7-4f0f-9265-0d4d8df2a13b",
   "metadata": {},
   "outputs": [
    {
     "data": {
      "text/plain": [
       "[2, 2, 4]"
      ]
     },
     "execution_count": 160,
     "metadata": {},
     "output_type": "execute_result"
    }
   ],
   "source": [
    "#filter\n",
    "list(filter(lambda a : a%2==0,l))"
   ]
  },
  {
   "cell_type": "code",
   "execution_count": 161,
   "id": "1679d18e-6769-4c69-982d-c7a7bca50a8f",
   "metadata": {},
   "outputs": [],
   "source": [
    "s=\"Pw Skills\""
   ]
  },
  {
   "cell_type": "code",
   "execution_count": 163,
   "id": "d1b6280d-529a-4c39-a38b-d54bb32de030",
   "metadata": {},
   "outputs": [
    {
     "data": {
      "text/plain": [
       "['w', 'k', 'i', 'l', 'l', 's']"
      ]
     },
     "execution_count": 163,
     "metadata": {},
     "output_type": "execute_result"
    }
   ],
   "source": [
    "list(filter(lambda a : a.islower(),s))"
   ]
  },
  {
   "cell_type": "code",
   "execution_count": 164,
   "id": "7c298776-b1e6-46ca-b61f-7204efd2c07e",
   "metadata": {},
   "outputs": [],
   "source": [
    "l = [\"pw\" , \"pwskills\", \"sudh\", \"krish\"]"
   ]
  },
  {
   "cell_type": "code",
   "execution_count": 165,
   "id": "f1f581e7-abd3-46fe-9304-3de30f8f735b",
   "metadata": {},
   "outputs": [
    {
     "data": {
      "text/plain": [
       "['pw', 'sudh']"
      ]
     },
     "execution_count": 165,
     "metadata": {},
     "output_type": "execute_result"
    }
   ],
   "source": [
    "list(filter(lambda a : len(a)<=4,l))"
   ]
  },
  {
   "cell_type": "code",
   "execution_count": 166,
   "id": "ba131d5a-f859-4f6a-8d39-b802815d5b28",
   "metadata": {},
   "outputs": [
    {
     "data": {
      "text/plain": [
       "['pw', 'pwskills', 'sudh', 'krish']"
      ]
     },
     "execution_count": 166,
     "metadata": {},
     "output_type": "execute_result"
    }
   ],
   "source": [
    "l"
   ]
  },
  {
   "cell_type": "code",
   "execution_count": 167,
   "id": "06e8ed19-23b2-4c16-933b-706f25123788",
   "metadata": {},
   "outputs": [
    {
     "data": {
      "text/plain": [
       "['pw', 'pwskills']"
      ]
     },
     "execution_count": 167,
     "metadata": {},
     "output_type": "execute_result"
    }
   ],
   "source": [
    "list(filter( lambda a : a[0]=='p',l))"
   ]
  },
  {
   "cell_type": "code",
   "execution_count": 171,
   "id": "7adb4193-f021-4e96-a424-a5ccac70a2f0",
   "metadata": {},
   "outputs": [],
   "source": [
    "def gen_fib(n):\n",
    "    if n <=1 :\n",
    "        return n\n",
    "    else:\n",
    "        return  gen_fib(n-1)+ gen_fib(n-2)"
   ]
  },
  {
   "cell_type": "code",
   "execution_count": 174,
   "id": "1e59088a-0ef1-44d4-898d-1777ab320ae4",
   "metadata": {},
   "outputs": [
    {
     "data": {
      "text/plain": [
       "5"
      ]
     },
     "execution_count": 174,
     "metadata": {},
     "output_type": "execute_result"
    }
   ],
   "source": [
    "gen_fib(5)"
   ]
  },
  {
   "cell_type": "code",
   "execution_count": 175,
   "id": "53b8b68d-06c5-4b85-9294-fe67408dc0c4",
   "metadata": {},
   "outputs": [],
   "source": [
    "def sum_till_n(n):\n",
    "    if n==1:\n",
    "        return n\n",
    "    else :\n",
    "        return n + sum_till_n(n-1)"
   ]
  },
  {
   "cell_type": "code",
   "execution_count": 176,
   "id": "e6bee8c7-571c-4040-8912-16633804bf78",
   "metadata": {},
   "outputs": [
    {
     "data": {
      "text/plain": [
       "15"
      ]
     },
     "execution_count": 176,
     "metadata": {},
     "output_type": "execute_result"
    }
   ],
   "source": [
    "sum_till_n(5)"
   ]
  },
  {
   "cell_type": "code",
   "execution_count": 178,
   "id": "9ef5cecd-21a5-4cbe-87b5-35b4dc02f466",
   "metadata": {},
   "outputs": [
    {
     "data": {
      "text/plain": [
       "[[3, 2, 1], [6, 5, 4], [9, 8, 7]]"
      ]
     },
     "execution_count": 178,
     "metadata": {},
     "output_type": "execute_result"
    }
   ],
   "source": [
    "#test\n",
    "list1=[[1,2,3],[4,5,6],[7,8,9]]\n",
    "list(map(lambda a: a[::-1], list1))"
   ]
  },
  {
   "cell_type": "code",
   "execution_count": 185,
   "id": "27e9f439-ef62-4d2c-8dc6-8b3d806232a9",
   "metadata": {},
   "outputs": [
    {
     "data": {
      "text/plain": [
       "[4, 9, 16]"
      ]
     },
     "execution_count": 185,
     "metadata": {},
     "output_type": "execute_result"
    }
   ],
   "source": [
    "#test\n",
    "li =[2,3,4]\n",
    "list(map(lambda a: a*a,li))"
   ]
  },
  {
   "cell_type": "code",
   "execution_count": 186,
   "id": "d5e82a3f-33c7-4c55-b34a-9ed10172b9f0",
   "metadata": {},
   "outputs": [
    {
     "data": {
      "text/plain": [
       "24"
      ]
     },
     "execution_count": 186,
     "metadata": {},
     "output_type": "execute_result"
    }
   ],
   "source": [
    "#test\n",
    "li=[2,3,4]\n",
    "reduce(lambda a,b: a*b,li)"
   ]
  },
  {
   "cell_type": "code",
   "execution_count": null,
   "id": "3b7cd15b-59c6-4dfd-8a7b-8a1f9bda30ce",
   "metadata": {},
   "outputs": [],
   "source": [
    "recurssion\n",
    "while loop\n",
    "iterator, iterable, generator\n",
    "zip\n",
    "enumerator\n",
    "decorator\n",
    "comprehension\n",
    "yield"
   ]
  },
  {
   "cell_type": "code",
   "execution_count": null,
   "id": "972b8399-5d80-4bcb-9608-8678fcc506e7",
   "metadata": {},
   "outputs": [],
   "source": []
  }
 ],
 "metadata": {
  "kernelspec": {
   "display_name": "Python 3 (ipykernel)",
   "language": "python",
   "name": "python3"
  },
  "language_info": {
   "codemirror_mode": {
    "name": "ipython",
    "version": 3
   },
   "file_extension": ".py",
   "mimetype": "text/x-python",
   "name": "python",
   "nbconvert_exporter": "python",
   "pygments_lexer": "ipython3",
   "version": "3.10.8"
  }
 },
 "nbformat": 4,
 "nbformat_minor": 5
}
