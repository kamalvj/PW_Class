{
 "cells": [
  {
   "cell_type": "code",
   "execution_count": null,
   "id": "c9d3a595-1862-443c-9ed1-e436f4e3789e",
   "metadata": {},
   "outputs": [],
   "source": [
    "a = 10\n",
    "while a>=1:\n",
    "    print(a)\n",
    "    a=a-1"
   ]
  },
  {
   "cell_type": "code",
   "execution_count": 3,
   "id": "f311990e-e4b0-4bed-bd26-9bfed038e9ac",
   "metadata": {},
   "outputs": [
    {
     "name": "stdout",
     "output_type": "stream",
     "text": [
      "15\n"
     ]
    }
   ],
   "source": [
    "s = 0\n",
    "n = 1\n",
    "t = 5\n",
    "while n <= t :\n",
    "    s = s + n\n",
    "    n = n + 1\n",
    "print(s)\n",
    "    "
   ]
  },
  {
   "cell_type": "code",
   "execution_count": 5,
   "id": "8c7fc312-31ab-476e-8edb-ca0f3be0fc54",
   "metadata": {},
   "outputs": [
    {
     "name": "stdout",
     "output_type": "stream",
     "text": [
      "120\n"
     ]
    }
   ],
   "source": [
    "s = 1\n",
    "n = 1\n",
    "t = 5\n",
    "while n <= t :\n",
    "    s = s * n\n",
    "    n = n + 1\n",
    "print(s)\n",
    "    "
   ]
  },
  {
   "cell_type": "code",
   "execution_count": 4,
   "id": "21ef350e-44fd-45be-bab7-c7e99286f89b",
   "metadata": {},
   "outputs": [
    {
     "name": "stdout",
     "output_type": "stream",
     "text": [
      "19\n",
      "38\n",
      "57\n",
      "76\n",
      "95\n",
      "114\n",
      "133\n",
      "152\n",
      "171\n",
      "190\n"
     ]
    }
   ],
   "source": [
    "a = 1\n",
    "n = 19\n",
    "while a <= 10:\n",
    "    print(n * a)\n",
    "    a = a + 1"
   ]
  },
  {
   "cell_type": "code",
   "execution_count": 1,
   "id": "ee6c3781-ea02-4bee-93b2-0af26c0b6ed2",
   "metadata": {},
   "outputs": [
    {
     "name": "stdin",
     "output_type": "stream",
     "text": [
      "enter a number for which you are looking for table 19\n"
     ]
    },
    {
     "name": "stdout",
     "output_type": "stream",
     "text": [
      "19 * 1 = 19\n",
      "19 * 2 = 38\n",
      "19 * 3 = 57\n",
      "19 * 4 = 76\n",
      "19 * 5 = 95\n",
      "19 * 6 = 114\n",
      "19 * 7 = 133\n",
      "19 * 8 = 152\n",
      "19 * 9 = 171\n",
      "19 * 10 = 190\n"
     ]
    }
   ],
   "source": [
    "n = int(input(\"enter a number for which you are looking for table\"))\n",
    "i = 1\n",
    "while i <= 10:\n",
    "    product = n * i\n",
    "    print( n, '*', i, '=', product )\n",
    "    i = i + 1"
   ]
  },
  {
   "cell_type": "code",
   "execution_count": 1,
   "id": "c8dca17d-c99a-4bd0-be7b-7cc8c9251f82",
   "metadata": {},
   "outputs": [
    {
     "name": "stdout",
     "output_type": "stream",
     "text": [
      "5\n",
      "4\n",
      "3\n",
      "2\n",
      "1\n",
      "break time is over\n"
     ]
    }
   ],
   "source": [
    "import time\n",
    "s = 5\n",
    "while s > 0 :\n",
    "    print(s)\n",
    "    time.sleep(1)\n",
    "    s = s-1\n",
    "print(\"break time is over\")"
   ]
  },
  {
   "cell_type": "code",
   "execution_count": 3,
   "id": "e54223c0-cdc5-4c45-bc91-540f1c7d8e58",
   "metadata": {},
   "outputs": [
    {
     "name": "stdout",
     "output_type": "stream",
     "text": [
      "20\n"
     ]
    },
    {
     "name": "stdin",
     "output_type": "stream",
     "text": [
      "enter your choice(1.biscuite, 2.chips, 3.redbull, 4.code) 1\n"
     ]
    },
    {
     "name": "stdout",
     "output_type": "stream",
     "text": [
      "Take your biscuite\n",
      "You don't have enough balance in your wallet\n",
      "16\n"
     ]
    },
    {
     "name": "stdin",
     "output_type": "stream",
     "text": [
      "enter your choice(1.biscuite, 2.chips, 3.redbull, 4.code) 2\n"
     ]
    },
    {
     "name": "stdout",
     "output_type": "stream",
     "text": [
      "Take your chips\n",
      "You don't have enough balance in your wallet\n",
      "11\n"
     ]
    },
    {
     "name": "stdin",
     "output_type": "stream",
     "text": [
      "enter your choice(1.biscuite, 2.chips, 3.redbull, 4.code) 3\n"
     ]
    },
    {
     "name": "stdout",
     "output_type": "stream",
     "text": [
      "Take your redbull\n",
      "You don't have enough balance in your wallet\n"
     ]
    }
   ],
   "source": [
    "money_in_hand = 20\n",
    "while money_in_hand >= 5 :\n",
    "    print(money_in_hand)\n",
    "    choice = int(input(\"enter your choice(1.biscuite, 2.chips, 3.redbull, 4.code)\"))\n",
    "    if choice == 1 :\n",
    "        print(\"Take your biscuite\")\n",
    "        money_in_hand = money_in_hand - 4\n",
    "    elif choice == 2:\n",
    "        print(\"Take your chips\")\n",
    "        money_in_hand = money_in_hand - 5\n",
    "    \n",
    "    elif choice == 3:\n",
    "        print(\"Take your redbull\")\n",
    "        money_in_hand = money_in_hand - 10\n",
    "    elif choice == 4:\n",
    "        print(\"Take your coke\")\n",
    "        money_in_hand = money_in_hand - 8\n",
    "    else:\n",
    "        print(\"You have not entered the correct choice\")\n",
    "    print(\"You don't have enough balance in your wallet\")\n",
    "        "
   ]
  },
  {
   "cell_type": "code",
   "execution_count": 6,
   "id": "293a69b5-1aa0-46f4-bb44-45a1cf2a8ffa",
   "metadata": {},
   "outputs": [
    {
     "name": "stdout",
     "output_type": "stream",
     "text": [
      "5\n",
      "4\n",
      "3\n",
      "2\n",
      "1\n",
      "break time is over\n"
     ]
    }
   ],
   "source": [
    "import time\n",
    "s = 5\n",
    "while s > 0 :\n",
    "    print(s)\n",
    "    time.sleep(1)\n",
    "    s = s-1\n",
    "    while s==3:\n",
    "        break\n",
    "    \n",
    "print(\"break time is over\")"
   ]
  },
  {
   "cell_type": "code",
   "execution_count": 2,
   "id": "c15bbcfb-1065-48e1-9808-495b1f2c0cd4",
   "metadata": {},
   "outputs": [
    {
     "name": "stdout",
     "output_type": "stream",
     "text": [
      "5\n"
     ]
    },
    {
     "name": "stdin",
     "output_type": "stream",
     "text": [
      "eneter anything to stop k\n"
     ]
    },
    {
     "name": "stdout",
     "output_type": "stream",
     "text": [
      "break time is over\n"
     ]
    }
   ],
   "source": [
    "import time\n",
    "s=5\n",
    "while s >0:\n",
    "    print(s)\n",
    "    time.sleep(1)\n",
    "    i = input(\"eneter anything to stop\")\n",
    "    if i:\n",
    "        break\n",
    "    s-=1\n",
    "print(\"break time is over\")"
   ]
  },
  {
   "cell_type": "code",
   "execution_count": 3,
   "id": "39bffa69-3aaf-49bd-8d91-67e37ae52777",
   "metadata": {},
   "outputs": [
    {
     "name": "stdout",
     "output_type": "stream",
     "text": [
      "enter s to stop the timer\n"
     ]
    },
    {
     "name": "stdin",
     "output_type": "stream",
     "text": [
      "enter s to stop s\n"
     ]
    },
    {
     "name": "stdout",
     "output_type": "stream",
     "text": [
      "start the class break is over\n"
     ]
    }
   ],
   "source": [
    "import time\n",
    "stop = False\n",
    "while not stop:\n",
    "    print(\"enter s to stop the timer\")\n",
    "    time.sleep(1)\n",
    "    press_stop=input(\"enter s to stop\")\n",
    "    if press_stop.lower() == \"s\":\n",
    "        stop= True\n",
    "print(\"start the class break is over\")\n"
   ]
  },
  {
   "cell_type": "code",
   "execution_count": 17,
   "id": "68d1b66d-7345-4616-b610-8aa62d95e504",
   "metadata": {},
   "outputs": [
    {
     "name": "stdin",
     "output_type": "stream",
     "text": [
      "enter user_name pw\n",
      "enter user_pwd 123\n"
     ]
    },
    {
     "name": "stdout",
     "output_type": "stream",
     "text": [
      "login success\n"
     ]
    }
   ],
   "source": [
    "cnt1 = 1\n",
    "user_name = \"pw\"\n",
    "user_pwd =\"123\"\n",
    "u_name= input(\"enter user_name\")\n",
    "while (cnt1 <= 3):\n",
    "    u_pwd = input(\"enter user_pwd\")\n",
    "    if (user_pwd == u_pwd):\n",
    "        print(\"login success\")\n",
    "        break\n",
    "    cnt1 = cnt1 + 1\n",
    "if cnt1 > 3 :\n",
    "    print(\"locked\")\n"
   ]
  },
  {
   "cell_type": "code",
   "execution_count": 13,
   "id": "829b3750-ff97-492a-a386-672644ce0532",
   "metadata": {},
   "outputs": [
    {
     "name": "stdin",
     "output_type": "stream",
     "text": [
      "enter your user id for account sudhanshu\n",
      "enter your password for respective user id sudhanshu@123\n"
     ]
    },
    {
     "name": "stdout",
     "output_type": "stream",
     "text": [
      "You have logged in successfully\n",
      "You have attempted maximum times and your account is locked \n"
     ]
    }
   ],
   "source": [
    "user_id = \"sudhanshu\"\n",
    "password = \"sudhanshu@123\"\n",
    "counter = 1\n",
    "user_id_check = False\n",
    "while counter <= 3 :\n",
    "    userid = input (\"enter your user id for account\")\n",
    "    if user_id == userid :\n",
    "        user_id_check =True\n",
    "    if user_id_check == True :\n",
    "        pswd = input(\"enter your password for respective user id\")\n",
    "        if pswd == password :\n",
    "            print(\"You have logged in successfully\")\n",
    "            break\n",
    "        counter = counter + 1\n",
    "print(\"You have attempted maximum times and your account is locked \")"
   ]
  },
  {
   "cell_type": "code",
   "execution_count": 14,
   "id": "369eb7e7-a76d-4f4e-93a6-853711149aa4",
   "metadata": {},
   "outputs": [
    {
     "name": "stdin",
     "output_type": "stream",
     "text": [
      "enter your user id for account sudhanshu\n",
      "enter your password for respective user id sudhanshu@123\n"
     ]
    },
    {
     "name": "stdout",
     "output_type": "stream",
     "text": [
      "You have logged in successfully\n",
      "You have attempted maximum times and your account is locked \n"
     ]
    }
   ],
   "source": [
    "user_id = \"sudhanshu\"\n",
    "password = \"sudhanshu@123\"\n",
    "counter = 1\n",
    "user_id_check = False\n",
    "userid = input (\"enter your user id for account\")\n",
    "while counter <= 3 :\n",
    "    if user_id == userid :\n",
    "        user_id_check =True\n",
    "    if user_id_check == True :\n",
    "        pswd = input(\"enter your password for respective user id\")\n",
    "        if pswd == password :\n",
    "            print(\"You have logged in successfully\")\n",
    "            break\n",
    "        counter = counter + 1\n",
    "print(\"You have attempted maximum times and your account is locked \")"
   ]
  },
  {
   "cell_type": "code",
   "execution_count": 15,
   "id": "e87e63d9-a8da-4623-b343-27f0fe4e8471",
   "metadata": {},
   "outputs": [
    {
     "name": "stdin",
     "output_type": "stream",
     "text": [
      "enter your user id for account sudhanshu\n",
      "enter your password for respective user id sudhanshu2123\n",
      "enter your password for respective user id sudhanshu@123\n"
     ]
    },
    {
     "name": "stdout",
     "output_type": "stream",
     "text": [
      "You have logged in successfully\n"
     ]
    }
   ],
   "source": [
    "user_id = \"sudhanshu\"\n",
    "password = \"sudhanshu@123\"\n",
    "counter = 1\n",
    "user_id_check = False\n",
    "userid = input (\"enter your user id for account\")\n",
    "while counter <= 3 :\n",
    "    if user_id == userid :\n",
    "        user_id_check =True\n",
    "    else:\n",
    "        print(\"Your user_id is incorrect try again\")\n",
    "        break\n",
    "    if user_id_check == True :\n",
    "        pswd = input(\"enter your password for respective user id\")\n",
    "        if pswd == password :\n",
    "            print(\"You have logged in successfully\")\n",
    "            break\n",
    "        counter = counter + 1\n",
    "if counter > 3 :\n",
    "    print(\"You have attempted maximum times and your account is locked \")"
   ]
  },
  {
   "cell_type": "code",
   "execution_count": 12,
   "id": "8ae30851-dec4-4351-beec-7c1fd372f125",
   "metadata": {},
   "outputs": [
    {
     "name": "stdin",
     "output_type": "stream",
     "text": [
      "enter into to do list wakeup\n",
      "enter into to do list sleep\n",
      "enter into to do list stop\n"
     ]
    },
    {
     "name": "stdout",
     "output_type": "stream",
     "text": [
      "['wakeup', 'sleep', 'stop']\n"
     ]
    }
   ],
   "source": [
    "to_do = []\n",
    "n =\"\"\n",
    "while n != \"stop\":\n",
    "    n = input(\"enter into to do list\")\n",
    "    to_do.append(n)\n",
    "print(to_do)\n",
    "    \n"
   ]
  },
  {
   "cell_type": "code",
   "execution_count": 13,
   "id": "ac675a91-b000-4d89-94be-725bd8f24644",
   "metadata": {},
   "outputs": [
    {
     "name": "stdin",
     "output_type": "stream",
     "text": [
      "enter your task Take class\n",
      "enter n if you want to add in todo list or enter y if you don't want to add n\n",
      "enter your task Eat\n",
      "enter n if you want to add in todo list or enter y if you don't want to add y\n"
     ]
    },
    {
     "name": "stdout",
     "output_type": "stream",
     "text": [
      "My todo list is ['Take class', 'Eat']\n"
     ]
    }
   ],
   "source": [
    "todo_list =[]\n",
    "end_of_todo ='n'\n",
    "while end_of_todo != 'y':\n",
    "    todo_item = input(\"enter your task\") \n",
    "    add_todo =todo_list.append(todo_item)\n",
    "    end_of_todo = input(\"enter n if you want to add in todo list or enter y if you don't want to add\")\n",
    "print(\"My todo list is\", todo_list)    "
   ]
  },
  {
   "cell_type": "code",
   "execution_count": 5,
   "id": "5354c1d1-18aa-4ec0-975c-ef4325344b86",
   "metadata": {},
   "outputs": [],
   "source": [
    "def fact(n):\n",
    "    if n == 0:\n",
    "        return 1\n",
    "    else :\n",
    "        return n*fact(n-1)"
   ]
  },
  {
   "cell_type": "code",
   "execution_count": 6,
   "id": "3267153a-5387-4148-8821-241031c1f2f3",
   "metadata": {},
   "outputs": [
    {
     "data": {
      "text/plain": [
       "120"
      ]
     },
     "execution_count": 6,
     "metadata": {},
     "output_type": "execute_result"
    }
   ],
   "source": [
    "fact(5)"
   ]
  },
  {
   "cell_type": "code",
   "execution_count": 8,
   "id": "95aabe95-826a-4f49-8dc9-a21b96dc1da0",
   "metadata": {},
   "outputs": [],
   "source": [
    "def fib(n):\n",
    "    if n<=1:\n",
    "        return n\n",
    "    else:\n",
    "        return fib(n-2) +  fib(n-1)"
   ]
  },
  {
   "cell_type": "code",
   "execution_count": 9,
   "id": "08eea9d6-2600-498e-8b0c-a3ca57729e3a",
   "metadata": {},
   "outputs": [
    {
     "data": {
      "text/plain": [
       "5"
      ]
     },
     "execution_count": 9,
     "metadata": {},
     "output_type": "execute_result"
    }
   ],
   "source": [
    "fib(5)"
   ]
  },
  {
   "cell_type": "code",
   "execution_count": 10,
   "id": "af23ef2d-fd30-46c6-8ca7-38a3c7275ddc",
   "metadata": {},
   "outputs": [
    {
     "data": {
      "text/plain": [
       "6"
      ]
     },
     "execution_count": 10,
     "metadata": {},
     "output_type": "execute_result"
    }
   ],
   "source": [
    "def sum_of_digit(n):\n",
    "    sum =0\n",
    "    while n!=0:\n",
    "        d = n%10\n",
    "        sum =sum+d\n",
    "        n = n//10\n",
    "    return sum\n",
    "sum_of_digit(123)"
   ]
  },
  {
   "cell_type": "code",
   "execution_count": 14,
   "id": "7dafe2ce-4774-4fd0-bd0c-477ab7401d2e",
   "metadata": {},
   "outputs": [
    {
     "data": {
      "text/plain": [
       "6"
      ]
     },
     "execution_count": 14,
     "metadata": {},
     "output_type": "execute_result"
    }
   ],
   "source": [
    "def get_sum(n):\n",
    "    sum =0\n",
    "    for digit in str(n):\n",
    "        sum+=int(digit)\n",
    "    return sum\n",
    "get_sum(123)   "
   ]
  },
  {
   "cell_type": "code",
   "execution_count": 15,
   "id": "5b01e058-19c0-4e73-b7ac-a7084dbb80f4",
   "metadata": {},
   "outputs": [],
   "source": [
    "def sum_digit(n):\n",
    "    if n <= 9:\n",
    "        return n\n",
    "    else :\n",
    "        return n  % 10 + sum_digit(n//10) "
   ]
  },
  {
   "cell_type": "code",
   "execution_count": 16,
   "id": "6f2024b7-ce47-45c5-a751-c018510d9c56",
   "metadata": {},
   "outputs": [
    {
     "data": {
      "text/plain": [
       "12"
      ]
     },
     "execution_count": 16,
     "metadata": {},
     "output_type": "execute_result"
    }
   ],
   "source": [
    "sum_digit(345)"
   ]
  },
  {
   "cell_type": "code",
   "execution_count": 17,
   "id": "86219540-7010-44f8-96f8-7284afeab7b4",
   "metadata": {},
   "outputs": [],
   "source": [
    "l = [3,4,5,6,76]"
   ]
  },
  {
   "cell_type": "code",
   "execution_count": 18,
   "id": "2ac9fc8b-fb87-410f-be84-48bbc47c9825",
   "metadata": {},
   "outputs": [
    {
     "data": {
      "text/plain": [
       "76"
      ]
     },
     "execution_count": 18,
     "metadata": {},
     "output_type": "execute_result"
    }
   ],
   "source": [
    "max(l)"
   ]
  },
  {
   "cell_type": "code",
   "execution_count": 19,
   "id": "b22292e8-1f64-49b0-ac6b-26f5c17e3425",
   "metadata": {},
   "outputs": [],
   "source": [
    "def max_find(l):\n",
    "    if len(l) ==1:\n",
    "        return l[0]\n",
    "    else:\n",
    "        return max(l[0],max_find(l[1:]))"
   ]
  },
  {
   "cell_type": "code",
   "execution_count": 20,
   "id": "431f5e67-6868-4aeb-b6a6-a1cb8b77b40f",
   "metadata": {},
   "outputs": [
    {
     "data": {
      "text/plain": [
       "90"
      ]
     },
     "execution_count": 20,
     "metadata": {},
     "output_type": "execute_result"
    }
   ],
   "source": [
    "max_find([4,5,6,6,7,3,4,5,6,90])"
   ]
  },
  {
   "cell_type": "code",
   "execution_count": 21,
   "id": "e2628876-a5de-49b7-94fa-1cbd1ad8fee8",
   "metadata": {},
   "outputs": [
    {
     "data": {
      "text/plain": [
       "3125"
      ]
     },
     "execution_count": 21,
     "metadata": {},
     "output_type": "execute_result"
    }
   ],
   "source": [
    "5**5"
   ]
  },
  {
   "cell_type": "code",
   "execution_count": 22,
   "id": "0bae6d68-45c7-4d68-aa56-6aadeeaea74e",
   "metadata": {},
   "outputs": [
    {
     "ename": "NameError",
     "evalue": "name 'pov' is not defined",
     "output_type": "error",
     "traceback": [
      "\u001b[0;31m---------------------------------------------------------------------------\u001b[0m",
      "\u001b[0;31mNameError\u001b[0m                                 Traceback (most recent call last)",
      "Cell \u001b[0;32mIn[22], line 1\u001b[0m\n\u001b[0;32m----> 1\u001b[0m \u001b[43mpov\u001b[49m(\u001b[38;5;241m5\u001b[39m,\u001b[38;5;241m5\u001b[39m)\n",
      "\u001b[0;31mNameError\u001b[0m: name 'pov' is not defined"
     ]
    }
   ],
   "source": [
    "pov(5,5)"
   ]
  },
  {
   "cell_type": "code",
   "execution_count": 23,
   "id": "26b78411-05dc-4c43-a2fe-76d8c43c5cd7",
   "metadata": {},
   "outputs": [],
   "source": [
    "def power_fun(n, k):\n",
    "    if k == 0:\n",
    "        return 1\n",
    "    else:\n",
    "        return n *  power_fun(n, k-1)"
   ]
  },
  {
   "cell_type": "code",
   "execution_count": 24,
   "id": "bbc4409d-87cc-47a9-a7ed-4d4385bd4fbf",
   "metadata": {},
   "outputs": [
    {
     "data": {
      "text/plain": [
       "16"
      ]
     },
     "execution_count": 24,
     "metadata": {},
     "output_type": "execute_result"
    }
   ],
   "source": [
    "power_fun(2,4)"
   ]
  },
  {
   "cell_type": "code",
   "execution_count": null,
   "id": "043fc928-ccad-4532-af3f-d4e649861782",
   "metadata": {},
   "outputs": [],
   "source": [
    "## doubt\n"
   ]
  }
 ],
 "metadata": {
  "kernelspec": {
   "display_name": "Python 3 (ipykernel)",
   "language": "python",
   "name": "python3"
  },
  "language_info": {
   "codemirror_mode": {
    "name": "ipython",
    "version": 3
   },
   "file_extension": ".py",
   "mimetype": "text/x-python",
   "name": "python",
   "nbconvert_exporter": "python",
   "pygments_lexer": "ipython3",
   "version": "3.10.8"
  }
 },
 "nbformat": 4,
 "nbformat_minor": 5
}
