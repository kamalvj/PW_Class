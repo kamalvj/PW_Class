{
 "cells": [
  {
   "cell_type": "code",
   "execution_count": 5,
   "id": "b766ab61-2852-4c18-ad2d-21df20093b46",
   "metadata": {},
   "outputs": [
    {
     "name": "stdout",
     "output_type": "stream",
     "text": [
      "yes, I will be able to buy\n"
     ]
    }
   ],
   "source": [
    "a = 1500\n",
    "price = 850\n",
    "if price <= 1500:\n",
    "    print(\"yes, I will be able to buy\")"
   ]
  },
  {
   "cell_type": "code",
   "execution_count": 2,
   "id": "fc57b622-5fcd-4033-a58e-388e89c678a5",
   "metadata": {},
   "outputs": [
    {
     "data": {
      "text/plain": [
       "True"
      ]
     },
     "execution_count": 2,
     "metadata": {},
     "output_type": "execute_result"
    }
   ],
   "source": [
    "price <= 500"
   ]
  },
  {
   "cell_type": "code",
   "execution_count": 9,
   "id": "14f131b1-908c-4aa2-831b-8aacdf1cea5a",
   "metadata": {},
   "outputs": [
    {
     "name": "stdout",
     "output_type": "stream",
     "text": [
      "This is a testing block\n",
      " I will try to buy shirt\n"
     ]
    }
   ],
   "source": [
    "a = 500\n",
    "shirt_price = 200\n",
    "pant_price=500\n",
    "coat_price=800\n",
    "\n",
    "if True:\n",
    "    print(\"This is a testing block\")\n",
    "\n",
    "if coat_price <= a:\n",
    "    print(\"I will try to buy coat\")\n",
    "elif pant_price < 500 :\n",
    "    print(\"I will try to buy pant\")\n",
    "elif shirt_price < 500 :\n",
    "    print(\" I will try to buy shirt\")\n",
    "else:\n",
    "    print(\"I wont be able to buy\")"
   ]
  },
  {
   "cell_type": "code",
   "execution_count": 8,
   "id": "ce8f502a-ef1a-49d6-b340-7b053db11eba",
   "metadata": {},
   "outputs": [
    {
     "data": {
      "text/plain": [
       "False"
      ]
     },
     "execution_count": 8,
     "metadata": {},
     "output_type": "execute_result"
    }
   ],
   "source": [
    "500<500"
   ]
  },
  {
   "cell_type": "code",
   "execution_count": 15,
   "id": "4081fc54-498c-4595-b529-4b5c27f20cda",
   "metadata": {},
   "outputs": [
    {
     "name": "stdout",
     "output_type": "stream",
     "text": [
      "Yes, its available under my budget\n",
      " I will try to buy shirt\n",
      "Yes, I will try to choose it\n"
     ]
    }
   ],
   "source": [
    "a = 500\n",
    "shirt_price = 200\n",
    "pant_price = 500\n",
    "coat_price = 800\n",
    "my_size = \"M\"\n",
    "size_store = [\"L\", \"XL\", \"S\", \"XXL\", \"XXXl\", \"M\"]\n",
    "my_fav_clr = \"white\"\n",
    "store_clr = [\"red\",\"white\", \"blue\", \"orange\"]\n",
    "if coat_price <= a:\n",
    "    print(\"I will try to buy coat\")\n",
    "elif pant_price < 500 :\n",
    "    print(\"I will try to buy pant\")\n",
    "elif shirt_price < 500 :\n",
    "    print(\"Yes, its available under my budget\")\n",
    "    if my_size in  size_store:\n",
    "        print(\" I will try to buy shirt\")\n",
    "        if my_fav_clr in store_clr:\n",
    "            print(\"Yes, I will try to choose it\")\n",
    "        else:\n",
    "            print(\"my fav clr is not available I will move to another store\")\n",
    "    else:\n",
    "        print(\"My Size is not available\")\n",
    "else:\n",
    "    print(\"I wont be able to buy\")"
   ]
  },
  {
   "cell_type": "code",
   "execution_count": 16,
   "id": "cd66bff5-a903-4d55-853d-1134ad4aa3cc",
   "metadata": {},
   "outputs": [
    {
     "data": {
      "text/plain": [
       "True"
      ]
     },
     "execution_count": 16,
     "metadata": {},
     "output_type": "execute_result"
    }
   ],
   "source": [
    "my_size in size_store"
   ]
  },
  {
   "cell_type": "code",
   "execution_count": 22,
   "id": "0fbd7a4b-5f24-473c-b917-1ce13742acf0",
   "metadata": {},
   "outputs": [
    {
     "name": "stdout",
     "output_type": "stream",
     "text": [
      "yes I am doing this course\n"
     ]
    }
   ],
   "source": [
    "course = ['DSM', 'DSA', 'java', 'big data', 'DA']\n",
    "price = 20000\n",
    "mentor = \"sudhanshu kumar\"\n",
    "if 'DSM' in course and price == 20000 and \"sudhanshu kumar\" == mentor:\n",
    "    print('yes I am doing this course')"
   ]
  },
  {
   "cell_type": "code",
   "execution_count": 23,
   "id": "61c2bf9f-bca7-4e18-8989-ffe7a9b8e5cb",
   "metadata": {},
   "outputs": [
    {
     "name": "stdout",
     "output_type": "stream",
     "text": [
      "its out of my budget\n"
     ]
    }
   ],
   "source": [
    "course_price = 20000\n",
    "\n",
    "if 10000 <= course_price <= 15000:\n",
    "    print(\"I will try to buy a course\")\n",
    "else:\n",
    "    print(\"its out of my budget\")"
   ]
  },
  {
   "cell_type": "code",
   "execution_count": 24,
   "id": "b24a4d8e-0047-485b-9145-c8994e91bf2e",
   "metadata": {},
   "outputs": [
    {
     "data": {
      "text/plain": [
       "False"
      ]
     },
     "execution_count": 24,
     "metadata": {},
     "output_type": "execute_result"
    }
   ],
   "source": [
    "10000 <= course_price <= 15000"
   ]
  },
  {
   "cell_type": "code",
   "execution_count": 28,
   "id": "dd9ee1f2-5483-4899-b2f2-d156e1706565",
   "metadata": {},
   "outputs": [
    {
     "name": "stdin",
     "output_type": "stream",
     "text": [
      "enter your username sudh\n",
      "enter your password sudh@1234\n"
     ]
    },
    {
     "name": "stdout",
     "output_type": "stream",
     "text": [
      "you have logged in successfully\n"
     ]
    }
   ],
   "source": [
    "user_name = \"sudh\"\n",
    "password = \"sudh@1234\"\n",
    "\n",
    "if user_name == input(\"enter your username\") and password == input(\"enter your password\"):\n",
    "    print(\"you have logged in successfully\")\n",
    "else:\n",
    "    print(\"enter correct username and password\")\n"
   ]
  },
  {
   "cell_type": "code",
   "execution_count": 33,
   "id": "731910dd-0925-4213-ba8c-9bebf1057542",
   "metadata": {},
   "outputs": [
    {
     "name": "stdin",
     "output_type": "stream",
     "text": [
      "enter your register mobile no 12345\n"
     ]
    },
    {
     "name": "stdout",
     "output_type": "stream",
     "text": [
      "yes you are a registered user\n"
     ]
    },
    {
     "name": "stdin",
     "output_type": "stream",
     "text": [
      "enter otp that we have sent on your mobile no 1234\n"
     ]
    },
    {
     "name": "stdout",
     "output_type": "stream",
     "text": [
      "you have logged in successfully\n"
     ]
    }
   ],
   "source": [
    "mobile_no = 12345\n",
    "otp =1234\n",
    "if mobile_no == int(input(\"enter your register mobile no\")):\n",
    "    print(\"yes you are a registered user\")\n",
    "    if otp == int(input(\"enter otp that we have sent on your mobile no\")):\n",
    "        print(\"you have logged in successfully\")\n",
    "    else:\n",
    "        print(\"otp is not correct please try to enter again\")\n",
    "else:\n",
    "    print(\"you have not entered a valid mobile no\")"
   ]
  },
  {
   "cell_type": "code",
   "execution_count": 34,
   "id": "2de1c779-94de-4a64-abfb-584d5ad22637",
   "metadata": {},
   "outputs": [
    {
     "name": "stdin",
     "output_type": "stream",
     "text": [
      "enter your register mobile no 23456\n"
     ]
    },
    {
     "name": "stdout",
     "output_type": "stream",
     "text": [
      "yes you are a registered user\n"
     ]
    },
    {
     "name": "stdin",
     "output_type": "stream",
     "text": [
      "enter otp that we have sent on your mobile no 1234\n"
     ]
    },
    {
     "name": "stdout",
     "output_type": "stream",
     "text": [
      "you have logged in successfully\n"
     ]
    }
   ],
   "source": [
    "mobile_no = {23456, 34567, 45677, 456789}\n",
    "otp =1234\n",
    "if int(input(\"enter your register mobile no\")) in mobile_no:\n",
    "    print(\"yes you are a registered user\")\n",
    "    if otp == int(input(\"enter otp that we have sent on your mobile no\")):\n",
    "        print(\"you have logged in successfully\")\n",
    "    else:\n",
    "        print(\"otp is not correct please try to enter again\")\n",
    "else:\n",
    "    print(\"you have not entered a valid mobile no\")"
   ]
  },
  {
   "cell_type": "code",
   "execution_count": 35,
   "id": "0c676082-a866-4e38-ac4e-222fafa5830c",
   "metadata": {},
   "outputs": [],
   "source": [
    "#LOOP"
   ]
  },
  {
   "cell_type": "code",
   "execution_count": 38,
   "id": "ec5b46d4-2a80-49d9-9739-3f9a2faa9012",
   "metadata": {},
   "outputs": [
    {
     "data": {
      "text/plain": [
       "[14, 5, 5, 6, 7, 8, 8]"
      ]
     },
     "execution_count": 38,
     "metadata": {},
     "output_type": "execute_result"
    }
   ],
   "source": [
    "l = [12,3,3,4,5,6,6]\n",
    "li=[]\n",
    "\n",
    "for i in l:\n",
    "    i = i + 2\n",
    "    li.append(i)\n",
    "li"
   ]
  },
  {
   "cell_type": "code",
   "execution_count": 57,
   "id": "a3ee25f0-6717-4704-a088-cdb02dce2903",
   "metadata": {},
   "outputs": [
    {
     "name": "stdout",
     "output_type": "stream",
     "text": [
      "23456\n",
      "yes user is registered\n",
      "yes, student details are available in DB \n",
      "course accessed to this user is  ['dsa', 'dsm', 'big data']\n",
      "34567\n",
      "45677\n",
      "456789\n"
     ]
    }
   ],
   "source": [
    "mobile_no = [23456, 34567, 45677, 456789]\n",
    "stud_no = 23456\n",
    "stud_details = {'mobile_no' : 23456, 'course' : ['dsa', 'dsm', 'big data']}\n",
    "\n",
    "for i in mobile_no:\n",
    "    print(i)\n",
    "    if i == stud_no:\n",
    "        print(\"yes user is registered\")        \n",
    "        if i == stud_details['mobile_no']:\n",
    "            print(\"yes, student details are available in DB \")\n",
    "            print(\"course accessed to this user is \", stud_details['course'])"
   ]
  },
  {
   "cell_type": "code",
   "execution_count": 48,
   "id": "49cf721c-d21c-4852-88bb-d21e91defe2d",
   "metadata": {},
   "outputs": [
    {
     "name": "stdout",
     "output_type": "stream",
     "text": [
      "sudh\n",
      "kumar\n"
     ]
    }
   ],
   "source": [
    "t = (12,3,4,5,56,\"sudh\",\"kumar\")\n",
    "\n",
    "for i in t :\n",
    "    if type(i) == str :\n",
    "        print(i)"
   ]
  },
  {
   "cell_type": "code",
   "execution_count": 56,
   "id": "91c93de5-13ec-458a-a365-8bff97cae338",
   "metadata": {},
   "outputs": [
    {
     "name": "stdout",
     "output_type": "stream",
     "text": [
      "['sudh', 'kumar']\n",
      "[12, 3, 4, 5, 56]\n"
     ]
    }
   ],
   "source": [
    "t = (12,3,4,5,56,\"sudh\",\"kumar\")\n",
    "str_list=[]\n",
    "int_list=[]\n",
    "for i in t :\n",
    "    if type(i) == str :\n",
    "        str_list.append(i)\n",
    "    else:\n",
    "        int_list.append(i)\n",
    "print(str_list)\n",
    "print(int_list)"
   ]
  },
  {
   "cell_type": "code",
   "execution_count": 58,
   "id": "e2fb800a-9abb-4b04-968c-cfb1bc33c0cd",
   "metadata": {},
   "outputs": [
    {
     "name": "stdout",
     "output_type": "stream",
     "text": [
      "2\n",
      "3\n",
      "4\n",
      "5\n",
      "6\n",
      "7\n"
     ]
    }
   ],
   "source": [
    "s ={2,3, 4, 5, 6,7}\n",
    "for i in s:\n",
    "    print(i)"
   ]
  },
  {
   "cell_type": "code",
   "execution_count": 63,
   "id": "26bfbb54-189b-48a3-bbb3-40f8ef4ca9fe",
   "metadata": {},
   "outputs": [],
   "source": [
    "d ={\"name\":\"sudh\", \"class\": ['big data', 'data analytics','ds','system design'], 'mobile_no': '345678','email':'abx@xyz.com'}"
   ]
  },
  {
   "cell_type": "code",
   "execution_count": 64,
   "id": "8326a7ad-0fa2-4473-a4de-88019e0c2477",
   "metadata": {},
   "outputs": [
    {
     "data": {
      "text/plain": [
       "{'name': 'sudh',\n",
       " 'class': ['big data', 'data analytics', 'ds', 'system design'],\n",
       " 'mobile_no': '345678',\n",
       " 'email': 'abx@xyz.com'}"
      ]
     },
     "execution_count": 64,
     "metadata": {},
     "output_type": "execute_result"
    }
   ],
   "source": [
    "d"
   ]
  },
  {
   "cell_type": "code",
   "execution_count": 65,
   "id": "b0b188de-d6e1-470e-806d-893f2829f93a",
   "metadata": {},
   "outputs": [
    {
     "name": "stdout",
     "output_type": "stream",
     "text": [
      "sudh\n",
      "['big data', 'data analytics', 'ds', 'system design']\n",
      "345678\n",
      "abx@xyz.com\n"
     ]
    }
   ],
   "source": [
    "for i in d.values():\n",
    "    print(i)"
   ]
  },
  {
   "cell_type": "code",
   "execution_count": 69,
   "id": "1a534be4-316d-4f95-847b-1c9ac0dd993e",
   "metadata": {},
   "outputs": [
    {
     "name": "stdout",
     "output_type": "stream",
     "text": [
      "yes this mentor teach system design\n"
     ]
    }
   ],
   "source": [
    "for i in d.values():\n",
    "    if type(i) == list:\n",
    "        if 'system design' in i:\n",
    "            print('yes this mentor teach system design')"
   ]
  },
  {
   "cell_type": "code",
   "execution_count": null,
   "id": "c1cec0fe-b114-478e-8bb0-2f86487b01bb",
   "metadata": {},
   "outputs": [],
   "source": [
    "#factorial of a number using list comprehension\n",
    "fact =1\n",
    "n=5\n",
    "str([fact :=fact * i for i in range(1,n+1)])\n",
    "sum_fact=sum([int(i) for i in str(fact)])\n",
    "print(sum_fact)"
   ]
  }
 ],
 "metadata": {
  "kernelspec": {
   "display_name": "Python 3 (ipykernel)",
   "language": "python",
   "name": "python3"
  },
  "language_info": {
   "codemirror_mode": {
    "name": "ipython",
    "version": 3
   },
   "file_extension": ".py",
   "mimetype": "text/x-python",
   "name": "python",
   "nbconvert_exporter": "python",
   "pygments_lexer": "ipython3",
   "version": "3.10.8"
  }
 },
 "nbformat": 4,
 "nbformat_minor": 5
}
