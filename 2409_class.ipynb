{
 "cells": [
  {
   "cell_type": "code",
   "execution_count": 23,
   "id": "12ce8e98-a535-41b9-958e-b18c869fcd04",
   "metadata": {},
   "outputs": [],
   "source": [
    "##Recursion##ewq\n",
    "\n"
   ]
  },
  {
   "cell_type": "markdown",
   "id": "f5c53883-eba8-4a2d-8ee7-24ad3d798c0c",
   "metadata": {},
   "source": [
    "s= \"sudhanshu\"\n",
    "len(s)"
   ]
  },
  {
   "cell_type": "code",
   "execution_count": 3,
   "id": "9e726d9d-8777-424c-ae79-39733275aa7f",
   "metadata": {},
   "outputs": [],
   "source": [
    "def find_len(s):\n",
    "    if s ==\"\":\n",
    "        return 0\n",
    "    else:\n",
    "        return 1 + find_len(s[1:])"
   ]
  },
  {
   "cell_type": "code",
   "execution_count": 4,
   "id": "138ec9eb-515a-45e7-a38b-6fd18b2f6988",
   "metadata": {},
   "outputs": [
    {
     "data": {
      "text/plain": [
       "9"
      ]
     },
     "execution_count": 4,
     "metadata": {},
     "output_type": "execute_result"
    }
   ],
   "source": [
    "find_len(\"sudhanshu\")"
   ]
  },
  {
   "cell_type": "code",
   "execution_count": 5,
   "id": "3c391fd0-479e-4ae3-b997-79b2ac68c460",
   "metadata": {},
   "outputs": [
    {
     "data": {
      "text/plain": [
       "8"
      ]
     },
     "execution_count": 5,
     "metadata": {},
     "output_type": "execute_result"
    }
   ],
   "source": [
    "find_len(\"pwskills\")"
   ]
  },
  {
   "cell_type": "code",
   "execution_count": 8,
   "id": "1e5e6456-8d7b-40ce-af57-19975e003972",
   "metadata": {},
   "outputs": [
    {
     "data": {
      "text/plain": [
       "'uhsnahdus'"
      ]
     },
     "execution_count": 8,
     "metadata": {},
     "output_type": "execute_result"
    }
   ],
   "source": [
    "s[::-1]"
   ]
  },
  {
   "cell_type": "code",
   "execution_count": 11,
   "id": "e643b748-e28d-4ecf-9aff-52933d0a97a9",
   "metadata": {},
   "outputs": [],
   "source": [
    "def find_reverse(s):\n",
    "    if s==\"\":\n",
    "        return \"\"\n",
    "    else:\n",
    "        return find_reverse(s[1:]) + s[0]"
   ]
  },
  {
   "cell_type": "code",
   "execution_count": 12,
   "id": "4f8e34c3-d070-483b-8c09-6d6a36d030fb",
   "metadata": {},
   "outputs": [
    {
     "data": {
      "text/plain": [
       "'hdus'"
      ]
     },
     "execution_count": 12,
     "metadata": {},
     "output_type": "execute_result"
    }
   ],
   "source": [
    "find_reverse(\"sudh\")"
   ]
  },
  {
   "cell_type": "code",
   "execution_count": 13,
   "id": "1d562b00-0cc1-4598-8f68-3c559324ae98",
   "metadata": {},
   "outputs": [],
   "source": [
    "s = \"sfsfsfssaaafaaa\""
   ]
  },
  {
   "cell_type": "code",
   "execution_count": 14,
   "id": "74bd1423-baa2-4e40-8d97-7714de31cca1",
   "metadata": {},
   "outputs": [],
   "source": [
    "def find_char_count(s,c):\n",
    "    if s==\"\":\n",
    "        return 0\n",
    "    elif s[0] == c:\n",
    "        return 1 + find_char_count(s[1:],c)\n",
    "    else:\n",
    "        return find_char_count(s[1:],c)"
   ]
  },
  {
   "cell_type": "code",
   "execution_count": 16,
   "id": "61c358d6-cdaa-4399-8c68-3cb2feb69432",
   "metadata": {},
   "outputs": [
    {
     "data": {
      "text/plain": [
       "6"
      ]
     },
     "execution_count": 16,
     "metadata": {},
     "output_type": "execute_result"
    }
   ],
   "source": [
    "find_char_count(s,'a')"
   ]
  },
  {
   "cell_type": "code",
   "execution_count": 18,
   "id": "f9dd5331-b42b-40e7-8c0f-3fb451e69675",
   "metadata": {},
   "outputs": [
    {
     "data": {
      "text/plain": [
       "4"
      ]
     },
     "execution_count": 18,
     "metadata": {},
     "output_type": "execute_result"
    }
   ],
   "source": [
    "find_char_count(s,'f')"
   ]
  },
  {
   "cell_type": "code",
   "execution_count": 19,
   "id": "336d1ae6-fa7f-4561-9b37-54dc15f8219e",
   "metadata": {},
   "outputs": [
    {
     "data": {
      "text/plain": [
       "5"
      ]
     },
     "execution_count": 19,
     "metadata": {},
     "output_type": "execute_result"
    }
   ],
   "source": [
    "find_char_count(s,'s')"
   ]
  },
  {
   "cell_type": "code",
   "execution_count": 20,
   "id": "f8467b4f-f097-4824-914a-6d1bf751a4e3",
   "metadata": {},
   "outputs": [
    {
     "data": {
      "text/plain": [
       "0"
      ]
     },
     "execution_count": 20,
     "metadata": {},
     "output_type": "execute_result"
    }
   ],
   "source": [
    "find_char_count(s,'z')"
   ]
  },
  {
   "cell_type": "code",
   "execution_count": 34,
   "id": "8cf5a7e7-323b-47f1-a68f-4166c4afac38",
   "metadata": {},
   "outputs": [],
   "source": [
    "l = [4,5,6,3,4,5,6,6,7]"
   ]
  },
  {
   "cell_type": "code",
   "execution_count": 35,
   "id": "3fee0cdb-3529-44a1-9726-b0e25c84c247",
   "metadata": {},
   "outputs": [],
   "source": [
    "def check_sort_list(l):\n",
    "    if len(l)<=1 :\n",
    "        return True\n",
    "    elif l[0] > l[1]:\n",
    "        return False\n",
    "    else:\n",
    "        return check_sort_list(l[1:])\n",
    "    "
   ]
  },
  {
   "cell_type": "code",
   "execution_count": 36,
   "id": "e94b26dc-6e22-4eee-8d03-400cb276fcbf",
   "metadata": {},
   "outputs": [
    {
     "data": {
      "text/plain": [
       "False"
      ]
     },
     "execution_count": 36,
     "metadata": {},
     "output_type": "execute_result"
    }
   ],
   "source": [
    "check_sort_list(l)"
   ]
  },
  {
   "cell_type": "code",
   "execution_count": 40,
   "id": "b5e0a3bc-fada-41ee-bb3a-1e8deae0a4b5",
   "metadata": {},
   "outputs": [],
   "source": [
    "def check_per_square(n, start = 1):\n",
    "    if n == start **2:\n",
    "        return True\n",
    "    elif n < start**2:\n",
    "        return False\n",
    "    else:\n",
    "        return check_per_square(n,start+1)"
   ]
  },
  {
   "cell_type": "code",
   "execution_count": 42,
   "id": "c9d87e7c-6592-45de-8464-9fb09908d25d",
   "metadata": {},
   "outputs": [
    {
     "data": {
      "text/plain": [
       "True"
      ]
     },
     "execution_count": 42,
     "metadata": {},
     "output_type": "execute_result"
    }
   ],
   "source": [
    "check_per_square(4)"
   ]
  },
  {
   "cell_type": "code",
   "execution_count": 45,
   "id": "e92e41aa-3508-492c-b759-89cb2e2c9695",
   "metadata": {},
   "outputs": [],
   "source": [
    "l = [2,3,4,5,6]\n",
    "a = 10\n",
    "s= \"sudh\""
   ]
  },
  {
   "cell_type": "markdown",
   "id": "1de4a2dd-f1bc-4d1c-ba9a-1e9d42779f72",
   "metadata": {},
   "source": [
    "# Iterartor"
   ]
  },
  {
   "cell_type": "code",
   "execution_count": 50,
   "id": "46d5a34a-c23e-4d9f-911a-80cf3c3d5afc",
   "metadata": {},
   "outputs": [
    {
     "name": "stdout",
     "output_type": "stream",
     "text": [
      "2\n",
      "3\n",
      "4\n",
      "5\n",
      "6\n"
     ]
    }
   ],
   "source": [
    "for i in l:\n",
    "    print(i)"
   ]
  },
  {
   "cell_type": "code",
   "execution_count": 48,
   "id": "db9f80fa-1aaf-43d3-a03f-a2ea1121deca",
   "metadata": {},
   "outputs": [
    {
     "name": "stdout",
     "output_type": "stream",
     "text": [
      "s\n",
      "u\n",
      "d\n",
      "h\n"
     ]
    }
   ],
   "source": [
    "for i in s:\n",
    "    print(i)"
   ]
  },
  {
   "cell_type": "code",
   "execution_count": 49,
   "id": "0488f5f7-e50c-4c4b-8685-481e473c3d8f",
   "metadata": {},
   "outputs": [
    {
     "ename": "TypeError",
     "evalue": "'int' object is not iterable",
     "output_type": "error",
     "traceback": [
      "\u001b[0;31m---------------------------------------------------------------------------\u001b[0m",
      "\u001b[0;31mTypeError\u001b[0m                                 Traceback (most recent call last)",
      "Cell \u001b[0;32mIn[49], line 1\u001b[0m\n\u001b[0;32m----> 1\u001b[0m \u001b[38;5;28;01mfor\u001b[39;00m i \u001b[38;5;129;01min\u001b[39;00m a :\n\u001b[1;32m      2\u001b[0m     \u001b[38;5;28mprint\u001b[39m (a)\n",
      "\u001b[0;31mTypeError\u001b[0m: 'int' object is not iterable"
     ]
    }
   ],
   "source": [
    "for i in a :\n",
    "    print (a)"
   ]
  },
  {
   "cell_type": "code",
   "execution_count": 51,
   "id": "dcb51d0d-2b7f-41e2-b08e-229fafdf949b",
   "metadata": {},
   "outputs": [
    {
     "ename": "TypeError",
     "evalue": "'int' object is not iterable",
     "output_type": "error",
     "traceback": [
      "\u001b[0;31m---------------------------------------------------------------------------\u001b[0m",
      "\u001b[0;31mTypeError\u001b[0m                                 Traceback (most recent call last)",
      "Cell \u001b[0;32mIn[51], line 1\u001b[0m\n\u001b[0;32m----> 1\u001b[0m \u001b[38;5;28;43miter\u001b[39;49m\u001b[43m(\u001b[49m\u001b[38;5;241;43m10\u001b[39;49m\u001b[43m)\u001b[49m\n",
      "\u001b[0;31mTypeError\u001b[0m: 'int' object is not iterable"
     ]
    }
   ],
   "source": [
    "iter(10)"
   ]
  },
  {
   "cell_type": "code",
   "execution_count": 52,
   "id": "4db8067d-cd74-4677-814f-9479f16217c6",
   "metadata": {},
   "outputs": [
    {
     "data": {
      "text/plain": [
       "<str_iterator at 0x7efe93b37010>"
      ]
     },
     "execution_count": 52,
     "metadata": {},
     "output_type": "execute_result"
    }
   ],
   "source": [
    "iter(\"sudh\")"
   ]
  },
  {
   "cell_type": "code",
   "execution_count": 53,
   "id": "a5e23f73-ba6e-4927-91e7-55fb09516c59",
   "metadata": {},
   "outputs": [],
   "source": [
    "s1 = iter(\"sudh\")"
   ]
  },
  {
   "cell_type": "code",
   "execution_count": 54,
   "id": "fe585e65-571b-4800-a89d-129b251f72be",
   "metadata": {},
   "outputs": [
    {
     "data": {
      "text/plain": [
       "<str_iterator at 0x7efe93b361a0>"
      ]
     },
     "execution_count": 54,
     "metadata": {},
     "output_type": "execute_result"
    }
   ],
   "source": [
    "s1"
   ]
  },
  {
   "cell_type": "code",
   "execution_count": 55,
   "id": "80c2d728-2c6c-420b-b46a-a6fd209be991",
   "metadata": {},
   "outputs": [
    {
     "data": {
      "text/plain": [
       "'s'"
      ]
     },
     "execution_count": 55,
     "metadata": {},
     "output_type": "execute_result"
    }
   ],
   "source": [
    "next(s1)"
   ]
  },
  {
   "cell_type": "code",
   "execution_count": 56,
   "id": "81de2a46-33c3-48fb-b1e4-5853c40593ad",
   "metadata": {},
   "outputs": [
    {
     "data": {
      "text/plain": [
       "'u'"
      ]
     },
     "execution_count": 56,
     "metadata": {},
     "output_type": "execute_result"
    }
   ],
   "source": [
    "next(s1)"
   ]
  },
  {
   "cell_type": "code",
   "execution_count": 57,
   "id": "8e3b8190-cd3f-41b6-9aec-a35a598bcb0e",
   "metadata": {},
   "outputs": [
    {
     "data": {
      "text/plain": [
       "'d'"
      ]
     },
     "execution_count": 57,
     "metadata": {},
     "output_type": "execute_result"
    }
   ],
   "source": [
    "next(s1)"
   ]
  },
  {
   "cell_type": "code",
   "execution_count": 58,
   "id": "049cc277-e7a0-47d6-97b1-7bc7c236f36c",
   "metadata": {},
   "outputs": [
    {
     "data": {
      "text/plain": [
       "'h'"
      ]
     },
     "execution_count": 58,
     "metadata": {},
     "output_type": "execute_result"
    }
   ],
   "source": [
    "next(s1)"
   ]
  },
  {
   "cell_type": "code",
   "execution_count": 59,
   "id": "553ee1dc-5926-4425-9124-987678f96fc6",
   "metadata": {},
   "outputs": [
    {
     "ename": "StopIteration",
     "evalue": "",
     "output_type": "error",
     "traceback": [
      "\u001b[0;31m---------------------------------------------------------------------------\u001b[0m",
      "\u001b[0;31mStopIteration\u001b[0m                             Traceback (most recent call last)",
      "Cell \u001b[0;32mIn[59], line 1\u001b[0m\n\u001b[0;32m----> 1\u001b[0m \u001b[38;5;28;43mnext\u001b[39;49m\u001b[43m(\u001b[49m\u001b[43ms1\u001b[49m\u001b[43m)\u001b[49m\n",
      "\u001b[0;31mStopIteration\u001b[0m: "
     ]
    }
   ],
   "source": [
    "next(s1)"
   ]
  },
  {
   "cell_type": "code",
   "execution_count": 60,
   "id": "606c17c4-3628-4195-9890-31600bf9c4fe",
   "metadata": {},
   "outputs": [
    {
     "name": "stdout",
     "output_type": "stream",
     "text": [
      "s\n",
      "u\n",
      "d\n",
      "h\n"
     ]
    }
   ],
   "source": [
    "for i in s :\n",
    "    print(i)"
   ]
  },
  {
   "cell_type": "code",
   "execution_count": 61,
   "id": "0d4c10bb-3b0a-4775-a59c-112b8634d677",
   "metadata": {},
   "outputs": [],
   "source": [
    "s2 = \"pwskills\""
   ]
  },
  {
   "cell_type": "code",
   "execution_count": 62,
   "id": "f572c295-bdc6-4b95-bab1-5dfd850628e4",
   "metadata": {},
   "outputs": [
    {
     "ename": "TypeError",
     "evalue": "'str' object is not an iterator",
     "output_type": "error",
     "traceback": [
      "\u001b[0;31m---------------------------------------------------------------------------\u001b[0m",
      "\u001b[0;31mTypeError\u001b[0m                                 Traceback (most recent call last)",
      "Cell \u001b[0;32mIn[62], line 1\u001b[0m\n\u001b[0;32m----> 1\u001b[0m \u001b[38;5;28;43mnext\u001b[39;49m\u001b[43m(\u001b[49m\u001b[43ms2\u001b[49m\u001b[43m)\u001b[49m\n",
      "\u001b[0;31mTypeError\u001b[0m: 'str' object is not an iterator"
     ]
    }
   ],
   "source": [
    "next(s2)"
   ]
  },
  {
   "cell_type": "code",
   "execution_count": 63,
   "id": "5700eb26-dcdc-4ee9-9c41-b230508e32e7",
   "metadata": {},
   "outputs": [
    {
     "name": "stdout",
     "output_type": "stream",
     "text": [
      "p\n",
      "w\n",
      "s\n",
      "k\n",
      "i\n",
      "l\n",
      "l\n",
      "s\n"
     ]
    }
   ],
   "source": [
    "for i in s2:\n",
    "    print(i)"
   ]
  },
  {
   "cell_type": "code",
   "execution_count": 64,
   "id": "b5b75e49-d6db-4f43-b775-55dfb8b4b8b1",
   "metadata": {},
   "outputs": [
    {
     "ename": "TypeError",
     "evalue": "'int' object is not iterable",
     "output_type": "error",
     "traceback": [
      "\u001b[0;31m---------------------------------------------------------------------------\u001b[0m",
      "\u001b[0;31mTypeError\u001b[0m                                 Traceback (most recent call last)",
      "Cell \u001b[0;32mIn[64], line 1\u001b[0m\n\u001b[0;32m----> 1\u001b[0m \u001b[38;5;28;43miter\u001b[39;49m\u001b[43m(\u001b[49m\u001b[38;5;241;43m20\u001b[39;49m\u001b[43m)\u001b[49m\n",
      "\u001b[0;31mTypeError\u001b[0m: 'int' object is not iterable"
     ]
    }
   ],
   "source": [
    "iter(20)"
   ]
  },
  {
   "cell_type": "code",
   "execution_count": 66,
   "id": "a58d24b9-0695-4ab4-a837-e1af54209cfd",
   "metadata": {},
   "outputs": [
    {
     "name": "stdout",
     "output_type": "stream",
     "text": [
      "2\n",
      "3\n",
      "4\n",
      "5\n"
     ]
    }
   ],
   "source": [
    "for i in [2,3,4,5]:\n",
    "    print(i)"
   ]
  },
  {
   "cell_type": "code",
   "execution_count": 68,
   "id": "a48fb723-d867-433f-8e57-8cbf3ef64842",
   "metadata": {},
   "outputs": [],
   "source": [
    "l =iter([1,2,3,4])"
   ]
  },
  {
   "cell_type": "code",
   "execution_count": 69,
   "id": "7b6db71e-30fd-42aa-8bc3-9b749c03c55d",
   "metadata": {},
   "outputs": [
    {
     "data": {
      "text/plain": [
       "1"
      ]
     },
     "execution_count": 69,
     "metadata": {},
     "output_type": "execute_result"
    }
   ],
   "source": [
    "next(l)"
   ]
  },
  {
   "cell_type": "code",
   "execution_count": 70,
   "id": "bdfd5b17-4bd3-4fa7-82a7-9457553040d6",
   "metadata": {},
   "outputs": [
    {
     "data": {
      "text/plain": [
       "2"
      ]
     },
     "execution_count": 70,
     "metadata": {},
     "output_type": "execute_result"
    }
   ],
   "source": [
    "next(l)"
   ]
  },
  {
   "cell_type": "code",
   "execution_count": 71,
   "id": "0a57b043-e325-4704-ae64-ac072bca4137",
   "metadata": {},
   "outputs": [
    {
     "data": {
      "text/plain": [
       "3"
      ]
     },
     "execution_count": 71,
     "metadata": {},
     "output_type": "execute_result"
    }
   ],
   "source": [
    "next(l)"
   ]
  },
  {
   "cell_type": "code",
   "execution_count": 72,
   "id": "e5f137d5-ca0d-4e38-9abe-983b3c864e63",
   "metadata": {},
   "outputs": [
    {
     "data": {
      "text/plain": [
       "4"
      ]
     },
     "execution_count": 72,
     "metadata": {},
     "output_type": "execute_result"
    }
   ],
   "source": [
    "next(l)"
   ]
  },
  {
   "cell_type": "code",
   "execution_count": 73,
   "id": "094c72be-aa8a-4e1c-b545-c436531720a0",
   "metadata": {},
   "outputs": [
    {
     "ename": "StopIteration",
     "evalue": "",
     "output_type": "error",
     "traceback": [
      "\u001b[0;31m---------------------------------------------------------------------------\u001b[0m",
      "\u001b[0;31mStopIteration\u001b[0m                             Traceback (most recent call last)",
      "Cell \u001b[0;32mIn[73], line 1\u001b[0m\n\u001b[0;32m----> 1\u001b[0m \u001b[38;5;28;43mnext\u001b[39;49m\u001b[43m(\u001b[49m\u001b[43ml\u001b[49m\u001b[43m)\u001b[49m\n",
      "\u001b[0;31mStopIteration\u001b[0m: "
     ]
    }
   ],
   "source": [
    "next(l)"
   ]
  },
  {
   "cell_type": "code",
   "execution_count": 74,
   "id": "0eb080d7-e840-4c12-8d5e-7cdf2a4e870b",
   "metadata": {},
   "outputs": [
    {
     "ename": "TypeError",
     "evalue": "'int' object is not iterable",
     "output_type": "error",
     "traceback": [
      "\u001b[0;31m---------------------------------------------------------------------------\u001b[0m",
      "\u001b[0;31mTypeError\u001b[0m                                 Traceback (most recent call last)",
      "Cell \u001b[0;32mIn[74], line 1\u001b[0m\n\u001b[0;32m----> 1\u001b[0m \u001b[38;5;28;01mfor\u001b[39;00m i \u001b[38;5;129;01min\u001b[39;00m \u001b[38;5;241m2423\u001b[39m:\n\u001b[1;32m      2\u001b[0m     \u001b[38;5;28mprint\u001b[39m(i)\n",
      "\u001b[0;31mTypeError\u001b[0m: 'int' object is not iterable"
     ]
    }
   ],
   "source": [
    "for i in 2423:\n",
    "    print(i)"
   ]
  },
  {
   "cell_type": "code",
   "execution_count": 75,
   "id": "d8b04463-6c00-42d9-a62a-caa83551640c",
   "metadata": {},
   "outputs": [
    {
     "name": "stdout",
     "output_type": "stream",
     "text": [
      "2\n",
      "3\n",
      "4\n",
      "5\n",
      "56\n"
     ]
    }
   ],
   "source": [
    "for i in [2,3,4,5,56]:\n",
    "    print(i)"
   ]
  },
  {
   "cell_type": "code",
   "execution_count": 77,
   "id": "df7b2b13-acc6-44ab-b267-b474ec44ab51",
   "metadata": {},
   "outputs": [
    {
     "data": {
      "text/plain": [
       "<tuple_iterator at 0x7efea81b4070>"
      ]
     },
     "execution_count": 77,
     "metadata": {},
     "output_type": "execute_result"
    }
   ],
   "source": [
    "iter((2,3,4,5))"
   ]
  },
  {
   "cell_type": "code",
   "execution_count": 78,
   "id": "b1c4bfa9-85d8-421f-9cff-711c689dbb04",
   "metadata": {},
   "outputs": [
    {
     "ename": "TypeError",
     "evalue": "'bool' object is not iterable",
     "output_type": "error",
     "traceback": [
      "\u001b[0;31m---------------------------------------------------------------------------\u001b[0m",
      "\u001b[0;31mTypeError\u001b[0m                                 Traceback (most recent call last)",
      "Cell \u001b[0;32mIn[78], line 1\u001b[0m\n\u001b[0;32m----> 1\u001b[0m \u001b[38;5;28;43miter\u001b[39;49m\u001b[43m(\u001b[49m\u001b[38;5;28;43;01mTrue\u001b[39;49;00m\u001b[43m)\u001b[49m\n",
      "\u001b[0;31mTypeError\u001b[0m: 'bool' object is not iterable"
     ]
    }
   ],
   "source": [
    "iter(True)"
   ]
  },
  {
   "cell_type": "code",
   "execution_count": 81,
   "id": "44c4161d-1f09-4616-a696-5156c90535b1",
   "metadata": {},
   "outputs": [],
   "source": [
    "d= iter({'key':'value'})"
   ]
  },
  {
   "cell_type": "code",
   "execution_count": 82,
   "id": "b5b54d59-b9da-47d1-9fa8-c5b907ae465b",
   "metadata": {},
   "outputs": [
    {
     "data": {
      "text/plain": [
       "'key'"
      ]
     },
     "execution_count": 82,
     "metadata": {},
     "output_type": "execute_result"
    }
   ],
   "source": [
    "next(d)"
   ]
  },
  {
   "cell_type": "markdown",
   "id": "3ac910bb-e9ba-4b25-9db6-2533396a78f8",
   "metadata": {},
   "source": [
    "# Generator"
   ]
  },
  {
   "cell_type": "code",
   "execution_count": 84,
   "id": "543ac8bc-a513-4ded-989c-74a362d41141",
   "metadata": {},
   "outputs": [
    {
     "data": {
      "text/plain": [
       "[0, 1, 2, 3, 4]"
      ]
     },
     "execution_count": 84,
     "metadata": {},
     "output_type": "execute_result"
    }
   ],
   "source": [
    "list(range(0,5))"
   ]
  },
  {
   "cell_type": "code",
   "execution_count": 85,
   "id": "414634a6-e2e8-48f8-b822-4ab2874426ee",
   "metadata": {},
   "outputs": [
    {
     "name": "stdout",
     "output_type": "stream",
     "text": [
      "0\n",
      "1\n",
      "2\n",
      "3\n",
      "4\n"
     ]
    }
   ],
   "source": [
    "for i in range(0,5):\n",
    "    print(i)"
   ]
  },
  {
   "cell_type": "code",
   "execution_count": 88,
   "id": "90e4e957-edb0-4edf-ace0-85c04d95334c",
   "metadata": {},
   "outputs": [],
   "source": [
    "i = iter(range(0,5))"
   ]
  },
  {
   "cell_type": "code",
   "execution_count": 89,
   "id": "9a7586a4-1827-40e5-a9a2-6fb84a002642",
   "metadata": {},
   "outputs": [
    {
     "data": {
      "text/plain": [
       "0"
      ]
     },
     "execution_count": 89,
     "metadata": {},
     "output_type": "execute_result"
    }
   ],
   "source": [
    "next(i)"
   ]
  },
  {
   "cell_type": "code",
   "execution_count": 90,
   "id": "d41d4127-f90c-45da-beec-2529736ad50e",
   "metadata": {},
   "outputs": [
    {
     "data": {
      "text/plain": [
       "1"
      ]
     },
     "execution_count": 90,
     "metadata": {},
     "output_type": "execute_result"
    }
   ],
   "source": [
    "next(i)"
   ]
  },
  {
   "cell_type": "code",
   "execution_count": 91,
   "id": "da9a6e20-c676-4399-a9c2-529b2015f1d3",
   "metadata": {},
   "outputs": [
    {
     "data": {
      "text/plain": [
       "2"
      ]
     },
     "execution_count": 91,
     "metadata": {},
     "output_type": "execute_result"
    }
   ],
   "source": [
    "next(i)"
   ]
  },
  {
   "cell_type": "code",
   "execution_count": 92,
   "id": "261c3feb-3b29-47d8-b266-ff557bf0dd70",
   "metadata": {},
   "outputs": [
    {
     "data": {
      "text/plain": [
       "3"
      ]
     },
     "execution_count": 92,
     "metadata": {},
     "output_type": "execute_result"
    }
   ],
   "source": [
    "next(i)"
   ]
  },
  {
   "cell_type": "code",
   "execution_count": 93,
   "id": "69eeb495-0d5d-4872-8954-727668be6429",
   "metadata": {},
   "outputs": [
    {
     "data": {
      "text/plain": [
       "4"
      ]
     },
     "execution_count": 93,
     "metadata": {},
     "output_type": "execute_result"
    }
   ],
   "source": [
    "next(i)"
   ]
  },
  {
   "cell_type": "code",
   "execution_count": 94,
   "id": "4cd58ba7-d540-46fd-aff3-5562fcd7f17e",
   "metadata": {},
   "outputs": [
    {
     "ename": "StopIteration",
     "evalue": "",
     "output_type": "error",
     "traceback": [
      "\u001b[0;31m---------------------------------------------------------------------------\u001b[0m",
      "\u001b[0;31mStopIteration\u001b[0m                             Traceback (most recent call last)",
      "Cell \u001b[0;32mIn[94], line 1\u001b[0m\n\u001b[0;32m----> 1\u001b[0m \u001b[38;5;28;43mnext\u001b[39;49m\u001b[43m(\u001b[49m\u001b[43mi\u001b[49m\u001b[43m)\u001b[49m\n",
      "\u001b[0;31mStopIteration\u001b[0m: "
     ]
    }
   ],
   "source": [
    "next(i)"
   ]
  },
  {
   "cell_type": "code",
   "execution_count": 95,
   "id": "8aed38ed-36ea-4f21-ab66-9bad2e786de7",
   "metadata": {},
   "outputs": [
    {
     "data": {
      "text/plain": [
       "range(0, 5)"
      ]
     },
     "execution_count": 95,
     "metadata": {},
     "output_type": "execute_result"
    }
   ],
   "source": [
    "range(0,5)"
   ]
  },
  {
   "cell_type": "code",
   "execution_count": 96,
   "id": "909af4c1-0236-45ff-ad97-46d251969bfd",
   "metadata": {},
   "outputs": [
    {
     "data": {
      "text/plain": [
       "4"
      ]
     },
     "execution_count": 96,
     "metadata": {},
     "output_type": "execute_result"
    }
   ],
   "source": [
    "len(\"sudh\")"
   ]
  },
  {
   "cell_type": "code",
   "execution_count": 97,
   "id": "3db69e75-3039-4b7e-b493-893ee4ed4014",
   "metadata": {},
   "outputs": [],
   "source": [
    "def count_func(n):\n",
    "    i = 1\n",
    "    while i<=n:\n",
    "        yield i\n",
    "        i = i+1"
   ]
  },
  {
   "cell_type": "code",
   "execution_count": 98,
   "id": "e363e22d-5a27-4e01-beb9-6eae5651af33",
   "metadata": {},
   "outputs": [
    {
     "data": {
      "text/plain": [
       "<generator object count_func at 0x7efe93b861f0>"
      ]
     },
     "execution_count": 98,
     "metadata": {},
     "output_type": "execute_result"
    }
   ],
   "source": [
    "count_func(9)"
   ]
  },
  {
   "cell_type": "code",
   "execution_count": 99,
   "id": "22ae6a66-122b-49e8-ac37-f949444574b9",
   "metadata": {},
   "outputs": [
    {
     "name": "stdout",
     "output_type": "stream",
     "text": [
      "1\n",
      "2\n",
      "3\n",
      "4\n",
      "5\n",
      "6\n",
      "7\n",
      "8\n",
      "9\n"
     ]
    }
   ],
   "source": [
    "for i in count_func(9):\n",
    "    print(i)"
   ]
  },
  {
   "cell_type": "code",
   "execution_count": 102,
   "id": "53b64626-3324-4e0d-82d5-58838202940e",
   "metadata": {},
   "outputs": [],
   "source": [
    "# difference between return and yield\n",
    "#return only return a value from a specific value\n",
    "# yield return collectin of data\n",
    "def count_func(n):\n",
    "    i = 1\n",
    "    while i<=n:\n",
    "        return i\n",
    "        i = i+1"
   ]
  },
  {
   "cell_type": "code",
   "execution_count": 103,
   "id": "8cdbd601-e39d-4e32-b683-73e59391cacf",
   "metadata": {},
   "outputs": [
    {
     "data": {
      "text/plain": [
       "1"
      ]
     },
     "execution_count": 103,
     "metadata": {},
     "output_type": "execute_result"
    }
   ],
   "source": [
    "count_func(5)"
   ]
  },
  {
   "cell_type": "code",
   "execution_count": 104,
   "id": "1767511d-300a-498f-8e8c-a959c1d32a74",
   "metadata": {},
   "outputs": [],
   "source": [
    "def count_func(n):\n",
    "    i = 1\n",
    "    l = []\n",
    "    while i<=n:\n",
    "        l.append(i)\n",
    "        i = i + 1\n",
    "    return l\n",
    "       "
   ]
  },
  {
   "cell_type": "code",
   "execution_count": 105,
   "id": "3aa7ea65-27eb-4a21-8e14-ca48f66e3fe8",
   "metadata": {},
   "outputs": [
    {
     "data": {
      "text/plain": [
       "[1, 2, 3, 4, 5, 6, 7, 8, 9, 10, 11, 12]"
      ]
     },
     "execution_count": 105,
     "metadata": {},
     "output_type": "execute_result"
    }
   ],
   "source": [
    "count_func(12)"
   ]
  },
  {
   "cell_type": "code",
   "execution_count": 106,
   "id": "309cc7cc-999d-44a2-94d4-476b27664a2f",
   "metadata": {},
   "outputs": [],
   "source": [
    "def count_func(n):\n",
    "    i = 1\n",
    "    while i<=n:\n",
    "        yield i\n",
    "        i = i+1"
   ]
  },
  {
   "cell_type": "code",
   "execution_count": 109,
   "id": "45cd5511-0aba-43d0-ba8a-4ed5594ecaa3",
   "metadata": {},
   "outputs": [
    {
     "name": "stdout",
     "output_type": "stream",
     "text": [
      "1\n",
      "2\n",
      "3\n",
      "4\n",
      "5\n",
      "6\n",
      "7\n",
      "8\n",
      "9\n",
      "10\n",
      "11\n",
      "12\n"
     ]
    }
   ],
   "source": [
    "for i in count_func(12):\n",
    "    print(i)"
   ]
  },
  {
   "cell_type": "code",
   "execution_count": 112,
   "id": "a0f7da57-dcbd-4fd2-bdcf-d9c81a5ff0a7",
   "metadata": {},
   "outputs": [],
   "source": [
    "#fibnoci sweries\n",
    "def fib(n):\n",
    "    a,b = 0,1\n",
    "    for i in range(n):\n",
    "        yield i\n",
    "        a,b = b , a+b "
   ]
  },
  {
   "cell_type": "code",
   "execution_count": 113,
   "id": "d8c61dc1-b759-469d-a18b-abb7a132abc3",
   "metadata": {},
   "outputs": [
    {
     "name": "stdout",
     "output_type": "stream",
     "text": [
      "0\n",
      "1\n",
      "2\n",
      "3\n",
      "4\n",
      "5\n",
      "6\n",
      "7\n",
      "8\n"
     ]
    }
   ],
   "source": [
    "for i in fib(9):\n",
    "    print (i)"
   ]
  },
  {
   "cell_type": "markdown",
   "id": "e8b1e159-e857-4b4e-a8e6-49616f1fa45a",
   "metadata": {},
   "source": [
    "# Read The file"
   ]
  },
  {
   "cell_type": "code",
   "execution_count": 115,
   "id": "50beb24b-e089-48ea-9c2f-f8a9dd32e091",
   "metadata": {},
   "outputs": [
    {
     "name": "stdout",
     "output_type": "stream",
     "text": [
      "1709class.ipynb                  Assignment_python_For_loop.ipynb\n",
      "19th_August_Python_Basics.ipynb  conditinal_stmt_loop_1609.ipynb\n",
      "20th_August_Python_Basics.ipynb  README.md\n",
      "2309_class.ipynb                 sample-code.ipynb\n",
      "2409_class.ipynb                 test.txt\n",
      "2ndseptclass.ipynb\n"
     ]
    }
   ],
   "source": [
    "ls\n"
   ]
  },
  {
   "cell_type": "code",
   "execution_count": 116,
   "id": "2c52568f-bc34-40e6-b5ca-89c9b9520d2b",
   "metadata": {},
   "outputs": [
    {
     "data": {
      "text/plain": [
       "'/home/jovyan/work'"
      ]
     },
     "execution_count": 116,
     "metadata": {},
     "output_type": "execute_result"
    }
   ],
   "source": [
    "pwd"
   ]
  },
  {
   "cell_type": "code",
   "execution_count": 119,
   "id": "6e1e8ab8-c5c3-4882-a0e4-8d50c7263509",
   "metadata": {},
   "outputs": [
    {
     "name": "stdout",
     "output_type": "stream",
     "text": [
      "Google’s mission is to organize\n",
      "\n",
      "the world’s information and\n",
      "\n",
      "make it universally accessible\n",
      "\n",
      "and useful. As a first step to\n",
      "\n",
      "fulfilling this mission, Google’s\n",
      "\n",
      "founders Larry Page and\n",
      "\n",
      "Sergey Brin developed a new\n",
      "\n",
      "approach to online search that\n",
      "\n",
      "took root in a Stanford\n",
      "\n",
      "University dorm room and quickly spread to information seekers around the globe.\n",
      "\n",
      "The Google search engine is an easy-to-use, free service that consistently returns relevant results in a\n",
      "\n",
      "fraction of a second.\n",
      "\n",
      "What we do\n",
      "\n",
      "Google is more than a search engine. We also offer Gmail, maps, personal blogging, and web-based\n",
      "\n",
      "word processing products to name just a few. YouTube, the popular online video service, is part of\n",
      "\n",
      "Google as well.\n",
      "\n",
      "Most of Google’s services are free, so how do we make\n",
      "\n",
      "money? Much of Google’s revenue comes through our\n",
      "\n",
      "AdWords advertising program, which allows businesses to\n",
      "\n",
      "place small “sponsored links” alongside our search\n",
      "\n",
      "results. Prices for these ads are set by competitive\n",
      "\n",
      "auctions for every search term where advertisers want their\n",
      "\n",
      "ads to appear. We don’t sell placement in the search\n",
      "\n",
      "results themselves, or allow people to pay for a higher\n",
      "\n",
      "ranking there.\n",
      "\n",
      "In addition, website managers and publishers take\n",
      "\n",
      "advantage of our AdSense advertising program to deliver\n",
      "\n",
      "ads on their sites. This program generates billions of\n",
      "\n",
      "dollars in revenue each year for hundreds of thousands of\n",
      "\n",
      "websites, and is a major source of funding for the free content available across the web.\n",
      "\n",
      "Google also offers enterprise versions of our consumer products for businesses, organizations, and\n",
      "\n",
      "government entities. These productivity tools include email, search, and geospatial products.\n",
      "\n",
      "As of December 31, 2008, Google employed 20,222 people full-time, more tha\n"
     ]
    }
   ],
   "source": [
    "for i in open('test.txt'):\n",
    "    print(i)"
   ]
  },
  {
   "cell_type": "code",
   "execution_count": 120,
   "id": "e4b602fd-c845-4bec-8b25-16a83532589c",
   "metadata": {},
   "outputs": [],
   "source": [
    "def read_file(file_name):\n",
    "    with open(file_name) as file :\n",
    "        for i in file:\n",
    "            yield i"
   ]
  },
  {
   "cell_type": "code",
   "execution_count": 121,
   "id": "ea8cd1f8-20d5-401e-b4ba-ff5182274656",
   "metadata": {},
   "outputs": [
    {
     "data": {
      "text/plain": [
       "<generator object read_file at 0x7efe93d78ba0>"
      ]
     },
     "execution_count": 121,
     "metadata": {},
     "output_type": "execute_result"
    }
   ],
   "source": [
    "read_file('test.txt')"
   ]
  },
  {
   "cell_type": "code",
   "execution_count": 122,
   "id": "35ec7de9-9af0-45ce-b34d-285aaaae8e3c",
   "metadata": {},
   "outputs": [
    {
     "name": "stdout",
     "output_type": "stream",
     "text": [
      "Google’s mission is to organize\n",
      "\n",
      "the world’s information and\n",
      "\n",
      "make it universally accessible\n",
      "\n",
      "and useful. As a first step to\n",
      "\n",
      "fulfilling this mission, Google’s\n",
      "\n",
      "founders Larry Page and\n",
      "\n",
      "Sergey Brin developed a new\n",
      "\n",
      "approach to online search that\n",
      "\n",
      "took root in a Stanford\n",
      "\n",
      "University dorm room and quickly spread to information seekers around the globe.\n",
      "\n",
      "The Google search engine is an easy-to-use, free service that consistently returns relevant results in a\n",
      "\n",
      "fraction of a second.\n",
      "\n",
      "What we do\n",
      "\n",
      "Google is more than a search engine. We also offer Gmail, maps, personal blogging, and web-based\n",
      "\n",
      "word processing products to name just a few. YouTube, the popular online video service, is part of\n",
      "\n",
      "Google as well.\n",
      "\n",
      "Most of Google’s services are free, so how do we make\n",
      "\n",
      "money? Much of Google’s revenue comes through our\n",
      "\n",
      "AdWords advertising program, which allows businesses to\n",
      "\n",
      "place small “sponsored links” alongside our search\n",
      "\n",
      "results. Prices for these ads are set by competitive\n",
      "\n",
      "auctions for every search term where advertisers want their\n",
      "\n",
      "ads to appear. We don’t sell placement in the search\n",
      "\n",
      "results themselves, or allow people to pay for a higher\n",
      "\n",
      "ranking there.\n",
      "\n",
      "In addition, website managers and publishers take\n",
      "\n",
      "advantage of our AdSense advertising program to deliver\n",
      "\n",
      "ads on their sites. This program generates billions of\n",
      "\n",
      "dollars in revenue each year for hundreds of thousands of\n",
      "\n",
      "websites, and is a major source of funding for the free content available across the web.\n",
      "\n",
      "Google also offers enterprise versions of our consumer products for businesses, organizations, and\n",
      "\n",
      "government entities. These productivity tools include email, search, and geospatial products.\n",
      "\n",
      "As of December 31, 2008, Google employed 20,222 people full-time, more tha\n"
     ]
    }
   ],
   "source": [
    "for i in read_file('test.txt'):\n",
    "    print(i)"
   ]
  },
  {
   "cell_type": "code",
   "execution_count": null,
   "id": "61cb37ab-6be5-4444-9660-d0ee37e08ed1",
   "metadata": {},
   "outputs": [],
   "source": []
  }
 ],
 "metadata": {
  "kernelspec": {
   "display_name": "Python 3 (ipykernel)",
   "language": "python",
   "name": "python3"
  },
  "language_info": {
   "codemirror_mode": {
    "name": "ipython",
    "version": 3
   },
   "file_extension": ".py",
   "mimetype": "text/x-python",
   "name": "python",
   "nbconvert_exporter": "python",
   "pygments_lexer": "ipython3",
   "version": "3.10.8"
  }
 },
 "nbformat": 4,
 "nbformat_minor": 5
}
